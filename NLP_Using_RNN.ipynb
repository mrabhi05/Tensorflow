{
  "nbformat": 4,
  "nbformat_minor": 0,
  "metadata": {
    "colab": {
      "name": "NLP-Using RNN.ipynb",
      "provenance": [],
      "collapsed_sections": [
        "a9GN3KUSyccl",
        "AtTpj3Nzyffq",
        "7K5Mki9WOHbB",
        "XhSk-VhkOacC",
        "wjXzd9DSPDhI",
        "1t8ZbSI-PGQg",
        "ZzULQM4qQSQP",
        "aVEB3r2vQVje",
        "WxV4A1MWTyB1",
        "wBfwfW1sUHVn",
        "KO8z3Pb_UHFg",
        "_O9BZ7lhpE-6"
      ],
      "authorship_tag": "ABX9TyMTpZq2YlE7NuzVElFY5RTE",
      "include_colab_link": true
    },
    "kernelspec": {
      "name": "python3",
      "display_name": "Python 3"
    },
    "language_info": {
      "name": "python"
    },
    "accelerator": "GPU"
  },
  "cells": [
    {
      "cell_type": "markdown",
      "metadata": {
        "id": "view-in-github",
        "colab_type": "text"
      },
      "source": [
        "<a href=\"https://colab.research.google.com/github/mrabhi05/Tensorflow/blob/main/NLP_Using_RNN.ipynb\" target=\"_parent\"><img src=\"https://colab.research.google.com/assets/colab-badge.svg\" alt=\"Open In Colab\"/></a>"
      ]
    },
    {
      "cell_type": "markdown",
      "metadata": {
        "id": "a69dfqSVvpsv"
      },
      "source": [
        "# Natural Language Processing \n",
        "Natural Language Processing (or NLP for short) is a discipline in computing that deals with the communication between natural (human) languages and computer languages. A common example of NLP is something like spellcheck or autocomplete. Essentially NLP is the field that focuses on how computers can understand and/or process natural/human languages. \n",
        "\n",
        "###Recurrent Neural Networks\n",
        "\n",
        "In this tutorial we will introduce a new kind of neural network that is much more capable of processing sequential data such as text or characters called a **recurrent neural network** (RNN for short). \n",
        "\n",
        "We will learn how to use a reccurent neural network to do the following:\n",
        "- Sentiment Analysis\n",
        "- Character Generation \n",
        "\n",
        "RNN's are complex and come in many different forms so in this tutorial we wil focus on how they work and the kind of problems they are best suited for.\n",
        "\n"
      ]
    },
    {
      "cell_type": "markdown",
      "metadata": {
        "id": "a9GN3KUSyccl"
      },
      "source": [
        "## Sequence Data\n",
        "In the previous tutorials we focused on data that we could represent as one static data point where the notion of time or step was irrelevant. Take for example our image data, it was simply a tensor of shape (width, height, channels). That data doesn't change or care about the notion of time. \n",
        "\n",
        "In this tutorial we will look at sequences of text and learn how we can encode them in a meaningful way. Unlike images, sequence data such as long chains of text, weather patterns, videos and really anything where the notion of a step or time is relevant needs to be processed and handled in a special way. \n",
        "\n",
        "But what do I mean by sequences and why is text data a sequence? Well that's a good question. Since textual data contains many words that follow in a very specific and meaningful order, we need to be able to keep track of each word and when it occurs in the data. Simply encoding say an entire paragraph of text into one data point wouldn't give us a very meaningful picture of the data and would be very difficult to do anything with. This is why we treat text as a sequence and process one word at a time. We will keep track of where each of these words appear and use that information to try to understand the meaning of peices of text.\n",
        "\n"
      ]
    },
    {
      "cell_type": "markdown",
      "metadata": {
        "id": "AtTpj3Nzyffq"
      },
      "source": [
        "##Encoding Text\n",
        "As we know machine learning models and neural networks don't take raw text data as an input. This means we must somehow encode our textual data to numeric values that our models can understand. There are many different ways of doing this and we will look at a few examples below. \n",
        "\n",
        "Before we get into the different encoding/preprocessing methods let's understand the information we can get from textual data by looking at the following two movie reviews.\n",
        "\n",
        "```I thought the movie was going to be bad, but it was actually amazing!```\n",
        "\n",
        "```I thought the movie was going to be amazing, but it was actually bad!```\n",
        "\n",
        "Although these two setences are very similar we know that they have very different meanings. This is because of the **ordering** of words, a very important property of textual data.\n",
        "\n",
        "Now keep that in mind while we consider some different ways of encoding our textual data.\n",
        "\n",
        "###Bag of Words\n",
        "The first and simplest way to encode our data is to use something called **bag of words**. This is a pretty easy technique where each word in a sentence is encoded with an integer and thrown into a collection that does not maintain the order of the words but does keep track of the frequency. Have a look at the python function below that encodes a string of text into bag of words. "
      ]
    },
    {
      "cell_type": "code",
      "metadata": {
        "id": "rr6etXJmMmtv",
        "colab": {
          "base_uri": "https://localhost:8080/"
        },
        "outputId": "09c392f1-98c7-4a62-a628-15eca6d1ab2e"
      },
      "source": [
        "vocab = {}  # maps word to integer representing it\n",
        "word_encoding = 1\n",
        "def bag_of_words(text):\n",
        "  global word_encoding\n",
        "\n",
        "  words = text.lower().split(\" \")  # create a list of all of the words in the text, well assume there is no grammar in our text for this example\n",
        "  bag = {}  # stores all of the encodings and their frequency\n",
        "\n",
        "  for word in words:\n",
        "    if word in vocab:\n",
        "      encoding = vocab[word]  # get encoding from vocab\n",
        "    else:\n",
        "      vocab[word] = word_encoding\n",
        "      encoding = word_encoding\n",
        "      word_encoding += 1\n",
        "    \n",
        "    if encoding in bag:\n",
        "      bag[encoding] += 1\n",
        "    else:\n",
        "      bag[encoding] = 1\n",
        "  \n",
        "  return bag\n",
        "\n",
        "text = \"this is a test to see if this test will work is is test a a\"\n",
        "bag = bag_of_words(text)\n",
        "print(bag)\n",
        "print(vocab)"
      ],
      "execution_count": null,
      "outputs": [
        {
          "output_type": "stream",
          "text": [
            "{1: 2, 2: 3, 3: 3, 4: 3, 5: 1, 6: 1, 7: 1, 8: 1, 9: 1}\n",
            "{'this': 1, 'is': 2, 'a': 3, 'test': 4, 'to': 5, 'see': 6, 'if': 7, 'will': 8, 'work': 9}\n"
          ],
          "name": "stdout"
        }
      ]
    },
    {
      "cell_type": "markdown",
      "metadata": {
        "id": "PJrUlvz54eLr"
      },
      "source": [
        "This isn't really the way we would do this in practice, but I hope it gives you an idea of how bag of words works. Notice that we've lost the order in which words appear. In fact, let's look at how this encoding works for the two sentences we showed above.\n",
        "\n"
      ]
    },
    {
      "cell_type": "code",
      "metadata": {
        "id": "mRFt9fHa4TRj",
        "colab": {
          "base_uri": "https://localhost:8080/"
        },
        "outputId": "cd132279-57a9-4cc3-8bfa-df411ce85249"
      },
      "source": [
        "positive_review = \"I thought the movie was going to be bad but it was actually amazing\"\n",
        "negative_review = \"I thought the movie was going to be amazing but it was actually bad\"\n",
        "\n",
        "pos_encode = bag_of_words(positive_review)\n",
        "neg_encode = bag_of_words(negative_review)\n",
        "\n",
        "print(\"Positive:\", pos_encode)\n",
        "print(\"Negative:\", neg_encode)"
      ],
      "execution_count": null,
      "outputs": [
        {
          "output_type": "stream",
          "text": [
            "Positive: {10: 1, 11: 1, 12: 1, 13: 1, 14: 2, 15: 1, 5: 1, 16: 1, 17: 1, 18: 1, 19: 1, 20: 1, 21: 1}\n",
            "Negative: {10: 1, 11: 1, 12: 1, 13: 1, 14: 2, 15: 1, 5: 1, 16: 1, 21: 1, 18: 1, 19: 1, 20: 1, 17: 1}\n"
          ],
          "name": "stdout"
        }
      ]
    },
    {
      "cell_type": "markdown",
      "metadata": {
        "id": "k2kgGv3_OFNc"
      },
      "source": [
        "We can see that even though these sentences have a very different meaning they are encoded exaclty the same way. Obviously, this isn't going to fly. Let's look at some other methods.\n",
        "\n"
      ]
    },
    {
      "cell_type": "markdown",
      "metadata": {
        "id": "7K5Mki9WOHbB"
      },
      "source": [
        "###Integer Encoding\n",
        "The next technique we will look at is called **integer encoding**. This involves representing each word or character in a sentence as a unique integer and maintaining the order of these words. This should hopefully fix the problem we saw before were we lost the order of words.\n"
      ]
    },
    {
      "cell_type": "code",
      "metadata": {
        "id": "SQO-m3s-OQRK",
        "colab": {
          "base_uri": "https://localhost:8080/"
        },
        "outputId": "88e84bad-c329-4d0a-b1b0-e67f42676606"
      },
      "source": [
        "vocab = {}  \n",
        "word_encoding = 1\n",
        "def one_hot_encoding(text):\n",
        "  global word_encoding\n",
        "\n",
        "  words = text.lower().split(\" \") \n",
        "  encoding = []  \n",
        "\n",
        "  for word in words:\n",
        "    if word in vocab:\n",
        "      code = vocab[word]  \n",
        "      encoding.append(code) \n",
        "    else:\n",
        "      vocab[word] = word_encoding\n",
        "      encoding.append(word_encoding)\n",
        "      word_encoding += 1\n",
        "  \n",
        "  return encoding\n",
        "\n",
        "text = \"this is a test to see if this test will work is is test a a\"\n",
        "encoding = one_hot_encoding(text)\n",
        "print(encoding)\n",
        "print(vocab)"
      ],
      "execution_count": null,
      "outputs": [
        {
          "output_type": "stream",
          "text": [
            "[1, 2, 3, 4, 5, 6, 7, 1, 4, 8, 9, 2, 2, 4, 3, 3]\n",
            "{'this': 1, 'is': 2, 'a': 3, 'test': 4, 'to': 5, 'see': 6, 'if': 7, 'will': 8, 'work': 9}\n"
          ],
          "name": "stdout"
        }
      ]
    },
    {
      "cell_type": "markdown",
      "metadata": {
        "id": "em9m0ljeOTJS"
      },
      "source": [
        "And now let's have a look at one hot encoding on our movie reviews."
      ]
    },
    {
      "cell_type": "code",
      "metadata": {
        "id": "H4hkCQpHOWlj",
        "colab": {
          "base_uri": "https://localhost:8080/"
        },
        "outputId": "656fc430-aa5b-4444-fac9-25203b2d667c"
      },
      "source": [
        "positive_review = \"I thought the movie was going to be bad but it was actually amazing\"\n",
        "negative_review = \"I thought the movie was going to be amazing but it was actually bad\"\n",
        "\n",
        "pos_encode = one_hot_encoding(positive_review)\n",
        "neg_encode = one_hot_encoding(negative_review)\n",
        "\n",
        "print(\"Positive:\", pos_encode)\n",
        "print(\"Negative:\", neg_encode)"
      ],
      "execution_count": null,
      "outputs": [
        {
          "output_type": "stream",
          "text": [
            "Positive: [10, 11, 12, 13, 14, 15, 5, 16, 17, 18, 19, 14, 20, 21]\n",
            "Negative: [10, 11, 12, 13, 14, 15, 5, 16, 21, 18, 19, 14, 20, 17]\n"
          ],
          "name": "stdout"
        }
      ]
    },
    {
      "cell_type": "markdown",
      "metadata": {
        "id": "fCkjYfEaOadw"
      },
      "source": [
        "Much better, now we are keeping track of the order of words and we can tell where each occurs. But this still has a few issues with it. Ideally when we encode words, we would like similar words to have similar labels and different words to have very different labels. For example, the words happy and joyful should probably have very similar labels so we can determine that they are similar. While words like horrible and amazing should probably have very different labels. The method we looked at above won't be able to do something like this for us. This could mean that the model will have a very difficult time determing if two words are similar or not which could result in some pretty drastic performace impacts.\n",
        "\n"
      ]
    },
    {
      "cell_type": "markdown",
      "metadata": {
        "id": "XhSk-VhkOacC"
      },
      "source": [
        "###Word Embeddings\n",
        "Luckily there is a third method that is far superior, **word embeddings**. This method keeps the order of words intact as well as encodes similar words with very similar labels. It attempts to not only encode the frequency and order of words but the meaning of those words in the sentence. It encodes each word as a dense vector that represents its context in the sentence.\n",
        "\n",
        "Unlike the previous techniques word embeddings are learned by looking at many different training examples. You can add what's called an *embedding layer* to the beggining of your model and while your model trains your embedding layer will learn the correct embeddings for words. You can also use pretrained embedding layers.\n",
        "\n",
        "This is the technique we will use for our examples and its implementation will be showed later on.\n",
        "\n"
      ]
    },
    {
      "cell_type": "markdown",
      "metadata": {
        "id": "wjXzd9DSPDhI"
      },
      "source": [
        "##Recurrent Neural Networks (RNN's)\n",
        "Now that we've learned a little bit about how we can encode text it's time to dive into recurrent neural networks. Up until this point we have been using something called **feed-forward** neural networks. This simply means that all our data is fed forwards (all at once) from left to right through the network. This was fine for the problems we considered before but won't work very well for processing text. After all, even we (humans) don't process text all at once. We read word by word from left to right and keep track of the current meaning of the sentence so we can understand the meaning of the next word. Well this is exaclty what a recurrent neural network is designed to do. When we say recurrent neural network all we really mean is a network that contains a loop. A RNN will process one word at a time while maintaining an internal memory of what it's already seen. This will allow it to treat words differently based on their order in a sentence and to slowly build an understanding of the entire input, one word at a time.\n",
        "\n",
        "This is why we are treating our text data as a sequence! So that we can pass one word at a time to the RNN.\n",
        "\n",
        "Let's have a look at what a recurrent layer might look like.\n",
        "\n",
        "![alt text](https://colah.github.io/posts/2015-08-Understanding-LSTMs/img/RNN-unrolled.png)\n",
        "*Source: https://colah.github.io/posts/2015-08-Understanding-LSTMs/*\n",
        "\n",
        "Let's define what all these variables stand for before we get into the explination.\n",
        "\n",
        "**h<sub>t</sub>** output at time t\n",
        "\n",
        "**x<sub>t</sub>** input at time t\n",
        "\n",
        "**A** Recurrent Layer (loop)\n",
        "\n",
        "What this diagram is trying to illustrate is that a recurrent layer processes words or input one at a time in a combination with the output from the previous iteration. So, as we progress further in the input sequence, we build a more complex understanding of the text as a whole.\n",
        "\n",
        "What we've just looked at is called a **simple RNN layer**. It can be effective at processing shorter sequences of text for simple problems but has many downfalls associated with it. One of them being the fact that as text sequences get longer it gets increasingly difficult for the network to understand the text properly.\n",
        "\n"
      ]
    },
    {
      "cell_type": "markdown",
      "metadata": {
        "id": "1t8ZbSI-PGQg"
      },
      "source": [
        "##LSTM\n",
        "The layer we dicussed in depth above was called a *simpleRNN*. However, there does exist some other recurrent layers (layers that contain a loop) that work much better than a simple RNN layer. The one we will talk about here is called LSTM (Long Short-Term Memory). This layer works very similarily to the simpleRNN layer but adds a way to access inputs from any timestep in the past. Whereas in our simple RNN layer input from previous timestamps gradually disappeared as we got further through the input. With a LSTM we have a long-term memory data structure storing all the previously seen inputs as well as when we saw them. This allows for us to access any previous value we want at any point in time. This adds to the complexity of our network and allows it to discover more useful relationships between inputs and when they appear. \n",
        "\n",
        "For the purpose of this course we will refrain from going any further into the math or details behind how these layers work.\n",
        "\n"
      ]
    },
    {
      "cell_type": "markdown",
      "metadata": {
        "id": "BkEph5EgSXnE"
      },
      "source": [
        "![image_2021-07-09_181128.png](data:image/png;base64,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)"
      ]
    },
    {
      "cell_type": "markdown",
      "metadata": {
        "id": "ZzULQM4qQSQP"
      },
      "source": [
        "##Sentiment Analysis\n",
        "And now time to see a recurrent neural network in action. For this example, we are going to do something called sentiment analysis.\n",
        "\n",
        "The formal definition of this term from Wikipedia is as follows:\n",
        "\n",
        "*the process of computationally identifying and categorizing opinions expressed in a piece of text, especially in order to determine whether the writer's attitude towards a particular topic, product, etc. is positive, negative, or neutral.*\n",
        "\n",
        "The example we’ll use here is classifying movie reviews as either postive, negative or neutral.\n",
        "\n",
        "*This guide is based on the following tensorflow tutorial: https://www.tensorflow.org/tutorials/text/text_classification_rnn*\n",
        "\n"
      ]
    },
    {
      "cell_type": "markdown",
      "metadata": {
        "id": "aVEB3r2vQVje"
      },
      "source": [
        "###Movie Review Dataset\n",
        "Well start by loading in the IMDB movie review dataset from keras. This dataset contains 25,000 reviews from IMDB where each one is already preprocessed and has a label as either positive or negative. Each review is encoded by integers that represents how common a word is in the entire dataset. For example, a word encoded by the integer 3 means that it is the 3rd most common word in the dataset."
      ]
    },
    {
      "cell_type": "code",
      "metadata": {
        "colab": {
          "base_uri": "https://localhost:8080/"
        },
        "id": "h8GDX8vFRLMu",
        "outputId": "2cfa7bc3-b18a-4c21-d19c-b247b87c6163"
      },
      "source": [
        "%tensorflow_version 2.x\n",
        "from keras.datasets import imdb\n",
        "from keras.preprocessing import sequence\n",
        "import tensorflow as tf\n",
        "import os \n",
        "import numpy as np\n",
        "\n",
        "VOCAB_SIZE = 88584\n",
        "\n",
        "MAXLEN = 250\n",
        "BATCH_SIZE = 64\n",
        "\n",
        "(train_data, train_labels), (test_data, test_labels) = imdb.load_data(num_words = VOCAB_SIZE)"
      ],
      "execution_count": null,
      "outputs": [
        {
          "output_type": "stream",
          "text": [
            "<string>:6: VisibleDeprecationWarning: Creating an ndarray from ragged nested sequences (which is a list-or-tuple of lists-or-tuples-or ndarrays with different lengths or shapes) is deprecated. If you meant to do this, you must specify 'dtype=object' when creating the ndarray\n",
            "/usr/local/lib/python3.7/dist-packages/keras/datasets/imdb.py:155: VisibleDeprecationWarning: Creating an ndarray from ragged nested sequences (which is a list-or-tuple of lists-or-tuples-or ndarrays with different lengths or shapes) is deprecated. If you meant to do this, you must specify 'dtype=object' when creating the ndarray\n",
            "  x_train, y_train = np.array(xs[:idx]), np.array(labels[:idx])\n",
            "/usr/local/lib/python3.7/dist-packages/keras/datasets/imdb.py:156: VisibleDeprecationWarning: Creating an ndarray from ragged nested sequences (which is a list-or-tuple of lists-or-tuples-or ndarrays with different lengths or shapes) is deprecated. If you meant to do this, you must specify 'dtype=object' when creating the ndarray\n",
            "  x_test, y_test = np.array(xs[idx:]), np.array(labels[idx:])\n"
          ],
          "name": "stderr"
        }
      ]
    },
    {
      "cell_type": "code",
      "metadata": {
        "colab": {
          "base_uri": "https://localhost:8080/"
        },
        "id": "pqX16Qy1Tdeg",
        "outputId": "a9aaaae4-b5ef-4a3b-8fcf-dad22ad7875e"
      },
      "source": [
        "# Let's look at one review\n",
        "train_data[0] "
      ],
      "execution_count": null,
      "outputs": [
        {
          "output_type": "execute_result",
          "data": {
            "text/plain": [
              "[1,\n",
              " 14,\n",
              " 22,\n",
              " 16,\n",
              " 43,\n",
              " 530,\n",
              " 973,\n",
              " 1622,\n",
              " 1385,\n",
              " 65,\n",
              " 458,\n",
              " 4468,\n",
              " 66,\n",
              " 3941,\n",
              " 4,\n",
              " 173,\n",
              " 36,\n",
              " 256,\n",
              " 5,\n",
              " 25,\n",
              " 100,\n",
              " 43,\n",
              " 838,\n",
              " 112,\n",
              " 50,\n",
              " 670,\n",
              " 22665,\n",
              " 9,\n",
              " 35,\n",
              " 480,\n",
              " 284,\n",
              " 5,\n",
              " 150,\n",
              " 4,\n",
              " 172,\n",
              " 112,\n",
              " 167,\n",
              " 21631,\n",
              " 336,\n",
              " 385,\n",
              " 39,\n",
              " 4,\n",
              " 172,\n",
              " 4536,\n",
              " 1111,\n",
              " 17,\n",
              " 546,\n",
              " 38,\n",
              " 13,\n",
              " 447,\n",
              " 4,\n",
              " 192,\n",
              " 50,\n",
              " 16,\n",
              " 6,\n",
              " 147,\n",
              " 2025,\n",
              " 19,\n",
              " 14,\n",
              " 22,\n",
              " 4,\n",
              " 1920,\n",
              " 4613,\n",
              " 469,\n",
              " 4,\n",
              " 22,\n",
              " 71,\n",
              " 87,\n",
              " 12,\n",
              " 16,\n",
              " 43,\n",
              " 530,\n",
              " 38,\n",
              " 76,\n",
              " 15,\n",
              " 13,\n",
              " 1247,\n",
              " 4,\n",
              " 22,\n",
              " 17,\n",
              " 515,\n",
              " 17,\n",
              " 12,\n",
              " 16,\n",
              " 626,\n",
              " 18,\n",
              " 19193,\n",
              " 5,\n",
              " 62,\n",
              " 386,\n",
              " 12,\n",
              " 8,\n",
              " 316,\n",
              " 8,\n",
              " 106,\n",
              " 5,\n",
              " 4,\n",
              " 2223,\n",
              " 5244,\n",
              " 16,\n",
              " 480,\n",
              " 66,\n",
              " 3785,\n",
              " 33,\n",
              " 4,\n",
              " 130,\n",
              " 12,\n",
              " 16,\n",
              " 38,\n",
              " 619,\n",
              " 5,\n",
              " 25,\n",
              " 124,\n",
              " 51,\n",
              " 36,\n",
              " 135,\n",
              " 48,\n",
              " 25,\n",
              " 1415,\n",
              " 33,\n",
              " 6,\n",
              " 22,\n",
              " 12,\n",
              " 215,\n",
              " 28,\n",
              " 77,\n",
              " 52,\n",
              " 5,\n",
              " 14,\n",
              " 407,\n",
              " 16,\n",
              " 82,\n",
              " 10311,\n",
              " 8,\n",
              " 4,\n",
              " 107,\n",
              " 117,\n",
              " 5952,\n",
              " 15,\n",
              " 256,\n",
              " 4,\n",
              " 31050,\n",
              " 7,\n",
              " 3766,\n",
              " 5,\n",
              " 723,\n",
              " 36,\n",
              " 71,\n",
              " 43,\n",
              " 530,\n",
              " 476,\n",
              " 26,\n",
              " 400,\n",
              " 317,\n",
              " 46,\n",
              " 7,\n",
              " 4,\n",
              " 12118,\n",
              " 1029,\n",
              " 13,\n",
              " 104,\n",
              " 88,\n",
              " 4,\n",
              " 381,\n",
              " 15,\n",
              " 297,\n",
              " 98,\n",
              " 32,\n",
              " 2071,\n",
              " 56,\n",
              " 26,\n",
              " 141,\n",
              " 6,\n",
              " 194,\n",
              " 7486,\n",
              " 18,\n",
              " 4,\n",
              " 226,\n",
              " 22,\n",
              " 21,\n",
              " 134,\n",
              " 476,\n",
              " 26,\n",
              " 480,\n",
              " 5,\n",
              " 144,\n",
              " 30,\n",
              " 5535,\n",
              " 18,\n",
              " 51,\n",
              " 36,\n",
              " 28,\n",
              " 224,\n",
              " 92,\n",
              " 25,\n",
              " 104,\n",
              " 4,\n",
              " 226,\n",
              " 65,\n",
              " 16,\n",
              " 38,\n",
              " 1334,\n",
              " 88,\n",
              " 12,\n",
              " 16,\n",
              " 283,\n",
              " 5,\n",
              " 16,\n",
              " 4472,\n",
              " 113,\n",
              " 103,\n",
              " 32,\n",
              " 15,\n",
              " 16,\n",
              " 5345,\n",
              " 19,\n",
              " 178,\n",
              " 32]"
            ]
          },
          "metadata": {
            "tags": []
          },
          "execution_count": 6
        }
      ]
    },
    {
      "cell_type": "markdown",
      "metadata": {
        "id": "WxV4A1MWTyB1"
      },
      "source": [
        "###More Preprocessing\n",
        "If we have a look at some of our loaded in reviews, we'll notice that they are different lengths. This is an issue. We cannot pass different length data into our neural network. Therefore, we must make each review the same length. To do this we will follow the procedure below:\n",
        "- if the review is greater than 250 words then trim off the extra words\n",
        "- if the review is less than 250 words add the necessary amount of 0's to make it equal to 250.\n",
        "\n",
        "Luckily for us keras has a function that can do this for us:"
      ]
    },
    {
      "cell_type": "code",
      "metadata": {
        "id": "jbishE06TqDt"
      },
      "source": [
        "train_data = sequence.pad_sequences(train_data, MAXLEN)\n",
        "test_data = sequence.pad_sequences(test_data, MAXLEN)"
      ],
      "execution_count": null,
      "outputs": []
    },
    {
      "cell_type": "markdown",
      "metadata": {
        "id": "wBfwfW1sUHVn"
      },
      "source": [
        "###Creating the Model\n",
        "Now it's time to create the model. We'll use a word embedding layer as the first layer in our model and add a LSTM layer afterwards that feeds into a dense node to get our predicted sentiment. \n",
        "\n",
        "32 stands for the output dimension of the vectors generated by the embedding layer. We can change this value if we'd like!"
      ]
    },
    {
      "cell_type": "code",
      "metadata": {
        "id": "c-2qsHJrUNx0"
      },
      "source": [
        "model = tf.keras.Sequential([\n",
        "                             tf.keras.layers.Embedding(VOCAB_SIZE, 32),\n",
        "                             tf.keras.layers.LSTM(32),\n",
        "                             tf.keras.layers.Dense(1, activation=\"sigmoid\")\n",
        "])"
      ],
      "execution_count": null,
      "outputs": []
    },
    {
      "cell_type": "code",
      "metadata": {
        "colab": {
          "base_uri": "https://localhost:8080/"
        },
        "id": "k0APRf6lUst7",
        "outputId": "d925182e-a92b-4451-ab86-47b5078106a9"
      },
      "source": [
        "model.summary()"
      ],
      "execution_count": null,
      "outputs": [
        {
          "output_type": "stream",
          "text": [
            "Model: \"sequential\"\n",
            "_________________________________________________________________\n",
            "Layer (type)                 Output Shape              Param #   \n",
            "=================================================================\n",
            "embedding (Embedding)        (None, None, 32)          2834688   \n",
            "_________________________________________________________________\n",
            "lstm (LSTM)                  (None, 32)                8320      \n",
            "_________________________________________________________________\n",
            "dense (Dense)                (None, 1)                 33        \n",
            "=================================================================\n",
            "Total params: 2,843,041\n",
            "Trainable params: 2,843,041\n",
            "Non-trainable params: 0\n",
            "_________________________________________________________________\n"
          ],
          "name": "stdout"
        }
      ]
    },
    {
      "cell_type": "markdown",
      "metadata": {
        "id": "KO8z3Pb_UHFg"
      },
      "source": [
        "###Training\n",
        "Now it's time to compile and train the model. "
      ]
    },
    {
      "cell_type": "code",
      "metadata": {
        "colab": {
          "base_uri": "https://localhost:8080/"
        },
        "id": "uZPdGYdzU-ds",
        "outputId": "82f9aaa1-f681-477d-b6d8-fa1431e52771"
      },
      "source": [
        "model.compile(loss=\"binary_crossentropy\", optimizer=\"rmsprop\", metrics=['acc'])\n",
        "\n",
        "history = model.fit(train_data, train_labels, epochs=10, validation_split=0.2)"
      ],
      "execution_count": null,
      "outputs": [
        {
          "output_type": "stream",
          "text": [
            "Epoch 1/10\n",
            "625/625 [==============================] - 16s 21ms/step - loss: 0.4254 - acc: 0.8048 - val_loss: 0.2954 - val_acc: 0.8792\n",
            "Epoch 2/10\n",
            "625/625 [==============================] - 13s 20ms/step - loss: 0.2365 - acc: 0.9115 - val_loss: 0.2906 - val_acc: 0.8816\n",
            "Epoch 3/10\n",
            "625/625 [==============================] - 13s 20ms/step - loss: 0.1906 - acc: 0.9297 - val_loss: 0.2683 - val_acc: 0.8940\n",
            "Epoch 4/10\n",
            "625/625 [==============================] - 13s 20ms/step - loss: 0.1524 - acc: 0.9453 - val_loss: 0.2765 - val_acc: 0.8962\n",
            "Epoch 5/10\n",
            "625/625 [==============================] - 13s 20ms/step - loss: 0.1319 - acc: 0.9530 - val_loss: 0.2817 - val_acc: 0.8898\n",
            "Epoch 6/10\n",
            "625/625 [==============================] - 13s 20ms/step - loss: 0.1124 - acc: 0.9613 - val_loss: 0.5029 - val_acc: 0.8482\n",
            "Epoch 7/10\n",
            "625/625 [==============================] - 13s 20ms/step - loss: 0.0992 - acc: 0.9667 - val_loss: 0.3033 - val_acc: 0.8914\n",
            "Epoch 8/10\n",
            "625/625 [==============================] - 13s 20ms/step - loss: 0.0863 - acc: 0.9717 - val_loss: 0.3500 - val_acc: 0.8858\n",
            "Epoch 9/10\n",
            "625/625 [==============================] - 13s 21ms/step - loss: 0.0728 - acc: 0.9764 - val_loss: 0.3613 - val_acc: 0.8840\n",
            "Epoch 10/10\n",
            "625/625 [==============================] - 13s 20ms/step - loss: 0.0675 - acc: 0.9779 - val_loss: 0.3711 - val_acc: 0.8840\n"
          ],
          "name": "stdout"
        }
      ]
    },
    {
      "cell_type": "markdown",
      "metadata": {
        "id": "bSQ72KYkbOSy"
      },
      "source": [
        "And we'll evaluate the model on our training data to see how well it performs."
      ]
    },
    {
      "cell_type": "code",
      "metadata": {
        "id": "zaNcsRZlVVDY",
        "colab": {
          "base_uri": "https://localhost:8080/"
        },
        "outputId": "6229bb69-4295-4f13-8d66-8b1ad674fb75"
      },
      "source": [
        "results = model.evaluate(test_data, test_labels)\n",
        "print(results)"
      ],
      "execution_count": null,
      "outputs": [
        {
          "output_type": "stream",
          "text": [
            "782/782 [==============================] - 4s 5ms/step - loss: 0.4441 - acc: 0.8568\n",
            "[0.44406750798225403, 0.8567600250244141]\n"
          ],
          "name": "stdout"
        }
      ]
    },
    {
      "cell_type": "markdown",
      "metadata": {
        "id": "6P4J2RoVbUED"
      },
      "source": [
        "So we're scoring somewhere in the mid-high 80's. Not bad for a simple recurrent network."
      ]
    },
    {
      "cell_type": "markdown",
      "metadata": {
        "id": "_O9BZ7lhpE-6"
      },
      "source": [
        "###Making Predictions\n",
        "Now let’s use our network to make predictions on our own reviews. \n",
        "\n",
        "Since our reviews are encoded well need to convert any review that we write into that form so the network can understand it. To do that well load the encodings from the dataset and use them to encode our own data.\n",
        "\n",
        "\n"
      ]
    },
    {
      "cell_type": "code",
      "metadata": {
        "colab": {
          "base_uri": "https://localhost:8080/"
        },
        "id": "XFmXi2jwpNX6",
        "outputId": "66e95197-d439-4966-d7d8-51f5c1a2faef"
      },
      "source": [
        "word_index = imdb.get_word_index()\n",
        "import keras\n",
        "\n",
        "\n",
        "def encode_text(text):\n",
        "  tokens = keras.preprocessing.text.text_to_word_sequence(text) # Convert all the words into tokens, (Individual words)\n",
        "  tokens = [word_index[word] if word in word_index else 0 for word in tokens]  # If the the word that is in \"tokens\" is in the mapping i.e. word_index  replace the location in the list with that specific integer that represents it. Else put 0. \n",
        "  return sequence.pad_sequences([tokens], MAXLEN)[0] #  Pad the token sequence and return the first index. \n",
        "\n",
        "text = \"that movie was just amazing, so amazing\"\n",
        "encoded = encode_text(text)\n",
        "print(encoded)\n"
      ],
      "execution_count": null,
      "outputs": [
        {
          "output_type": "stream",
          "text": [
            "[  0   0   0   0   0   0   0   0   0   0   0   0   0   0   0   0   0   0\n",
            "   0   0   0   0   0   0   0   0   0   0   0   0   0   0   0   0   0   0\n",
            "   0   0   0   0   0   0   0   0   0   0   0   0   0   0   0   0   0   0\n",
            "   0   0   0   0   0   0   0   0   0   0   0   0   0   0   0   0   0   0\n",
            "   0   0   0   0   0   0   0   0   0   0   0   0   0   0   0   0   0   0\n",
            "   0   0   0   0   0   0   0   0   0   0   0   0   0   0   0   0   0   0\n",
            "   0   0   0   0   0   0   0   0   0   0   0   0   0   0   0   0   0   0\n",
            "   0   0   0   0   0   0   0   0   0   0   0   0   0   0   0   0   0   0\n",
            "   0   0   0   0   0   0   0   0   0   0   0   0   0   0   0   0   0   0\n",
            "   0   0   0   0   0   0   0   0   0   0   0   0   0   0   0   0   0   0\n",
            "   0   0   0   0   0   0   0   0   0   0   0   0   0   0   0   0   0   0\n",
            "   0   0   0   0   0   0   0   0   0   0   0   0   0   0   0   0   0   0\n",
            "   0   0   0   0   0   0   0   0   0   0   0   0   0   0   0   0   0   0\n",
            "   0   0   0   0   0   0   0   0   0  12  17  13  40 477  35 477]\n"
          ],
          "name": "stdout"
        }
      ]
    },
    {
      "cell_type": "code",
      "metadata": {
        "colab": {
          "base_uri": "https://localhost:8080/"
        },
        "id": "sU0dyP_opPHi",
        "outputId": "48cac71b-71ff-4e92-8485-c15173f8fc90"
      },
      "source": [
        "# while were at it lets make a decode function\n",
        "\n",
        "reverse_word_index = {value: key for (key, value) in word_index.items()}\n",
        "\n",
        "def decode_integers(integers):  # This creates the predicted review as a string\n",
        "    PAD = 0\n",
        "    text = \"\"\n",
        "    for num in integers:\n",
        "      if num != PAD:\n",
        "        text += reverse_word_index[num] + \" \"\n",
        "\n",
        "    return text[:-1]\n",
        "  \n",
        "print(decode_integers(encoded))"
      ],
      "execution_count": null,
      "outputs": [
        {
          "output_type": "stream",
          "text": [
            "that movie was just amazing so amazing\n"
          ],
          "name": "stdout"
        }
      ]
    },
    {
      "cell_type": "code",
      "metadata": {
        "colab": {
          "base_uri": "https://localhost:8080/"
        },
        "id": "s-sFj-IrpR45",
        "outputId": "76382a8c-efee-473a-867e-c34258b1079f"
      },
      "source": [
        "# now time to make a prediction\n",
        "\n",
        "def predict(text):\n",
        "  encoded_text = encode_text(text)\n",
        "  pred = np.zeros((1,250))\n",
        "  pred[0] = encoded_text\n",
        "  result = model.predict(pred) \n",
        "  print(result[0])\n",
        "\n",
        "positive_review = \"That movie was! really loved it and would great watch it again because it was amazingly great\"\n",
        "predict(positive_review)\n",
        "\n",
        "negative_review = \"that movie really sucked. I hated it and wouldn't watch it again. Was one of the worst things I've ever watched\"\n",
        "predict(negative_review)\n"
      ],
      "execution_count": null,
      "outputs": [
        {
          "output_type": "stream",
          "text": [
            "[0.9352886]\n",
            "[0.320284]\n"
          ],
          "name": "stdout"
        }
      ]
    },
    {
      "cell_type": "markdown",
      "metadata": {
        "id": "C-CDREYGtbXs"
      },
      "source": [
        "##RNN Play Generator\n",
        "\n",
        "Now time for one of the coolest examples we've seen so far. We are going to use a RNN to generate a play. We will simply show the RNN an example of something we want it to recreate and it will learn how to write a version of it on its own. We'll do this using a character predictive model that will take as input a variable length sequence and predict the next character. We can use the model many times in a row with the output from the last predicition as the input for the next call to generate a sequence.\n",
        "\n",
        "\n",
        "*This guide is based on the following: https://www.tensorflow.org/tutorials/text/text_generation*"
      ]
    },
    {
      "cell_type": "code",
      "metadata": {
        "colab": {
          "base_uri": "https://localhost:8080/"
        },
        "id": "DdzbKAOXtdQo",
        "outputId": "9be640c2-2e72-456c-e9ec-30bcbeadcaad"
      },
      "source": [
        "%tensorflow_version 2.x  # this line is not required unless you are in a notebook\n",
        "from keras.preprocessing import sequence\n",
        "import keras\n",
        "import tensorflow as tf\n",
        "import os\n",
        "import numpy as np"
      ],
      "execution_count": 1,
      "outputs": [
        {
          "output_type": "stream",
          "text": [
            "`%tensorflow_version` only switches the major version: 1.x or 2.x.\n",
            "You set: `2.x  # this line is not required unless you are in a notebook`. This will be interpreted as: `2.x`.\n",
            "\n",
            "\n",
            "TensorFlow 2.x selected.\n"
          ],
          "name": "stdout"
        }
      ]
    },
    {
      "cell_type": "markdown",
      "metadata": {
        "id": "jPfEy4futfhK"
      },
      "source": [
        "###Dataset\n",
        "For this example, we only need one peice of training data. In fact, we can write our own poem or play and pass that to the network for training if we'd like. However, to make things easy we'll use an extract from a shakesphere play.\n",
        "\n",
        "\n"
      ]
    },
    {
      "cell_type": "code",
      "metadata": {
        "id": "aJ2T1p5itieB",
        "colab": {
          "base_uri": "https://localhost:8080/"
        },
        "outputId": "2688f761-40a1-416e-d532-dbca4d2b85b1"
      },
      "source": [
        "path_to_file = tf.keras.utils.get_file('shakespeare.txt', 'https://storage.googleapis.com/download.tensorflow.org/data/shakespeare.txt')"
      ],
      "execution_count": 2,
      "outputs": [
        {
          "output_type": "stream",
          "text": [
            "Downloading data from https://storage.googleapis.com/download.tensorflow.org/data/shakespeare.txt\n",
            "1122304/1115394 [==============================] - 0s 0us/step\n"
          ],
          "name": "stdout"
        }
      ]
    },
    {
      "cell_type": "markdown",
      "metadata": {
        "id": "sVVFQKjNtkJR"
      },
      "source": [
        "###Read Contents of File\n",
        "Let's look at the contents of the file."
      ]
    },
    {
      "cell_type": "code",
      "metadata": {
        "colab": {
          "base_uri": "https://localhost:8080/"
        },
        "id": "J0r-ImwWtltx",
        "outputId": "1b598a5a-d4f0-479e-abcf-ca7f04ec79ed"
      },
      "source": [
        "# Read, then decode for py2 compat.\n",
        "text = open(path_to_file, 'rb').read().decode(encoding='utf-8')\n",
        "# length of text is the number of characters in it\n",
        "print ('Length of text: {} characters'.format(len(text)))"
      ],
      "execution_count": 3,
      "outputs": [
        {
          "output_type": "stream",
          "text": [
            "Length of text: 1115394 characters\n"
          ],
          "name": "stdout"
        }
      ]
    },
    {
      "cell_type": "code",
      "metadata": {
        "colab": {
          "base_uri": "https://localhost:8080/"
        },
        "id": "0edp1I_ItnOS",
        "outputId": "ada4857c-6378-4dc6-b206-329cf0f124ab"
      },
      "source": [
        "# Take a look at the first 250 characters in text\n",
        "print(text[:250])"
      ],
      "execution_count": 4,
      "outputs": [
        {
          "output_type": "stream",
          "text": [
            "First Citizen:\n",
            "Before we proceed any further, hear me speak.\n",
            "\n",
            "All:\n",
            "Speak, speak.\n",
            "\n",
            "First Citizen:\n",
            "You are all resolved rather to die than to famish?\n",
            "\n",
            "All:\n",
            "Resolved. resolved.\n",
            "\n",
            "First Citizen:\n",
            "First, you know Caius Marcius is chief enemy to the people.\n",
            "\n"
          ],
          "name": "stdout"
        }
      ]
    },
    {
      "cell_type": "markdown",
      "metadata": {
        "id": "kRebQFVxtpGx"
      },
      "source": [
        "###Encoding\n",
        "Since this text isn't encoded yet well need to do that ourselves. We are going to encode each unique character as a different integer.\n",
        "\n"
      ]
    },
    {
      "cell_type": "code",
      "metadata": {
        "id": "d9PUNIMjtprW"
      },
      "source": [
        "vocab = sorted(set(text))\n",
        "# Creating a mapping from unique characters to indices\n",
        "char2idx = {u:i for i, u in enumerate(vocab)}  # Assigns a integer to each string\n",
        "idx2char = np.array(vocab)\n",
        "\n",
        "def text_to_int(text):  # Coverts it into a integer\n",
        "  return np.array([char2idx[c] for c in text])\n",
        "\n",
        "text_as_int = text_to_int(text)"
      ],
      "execution_count": 5,
      "outputs": []
    },
    {
      "cell_type": "code",
      "metadata": {
        "colab": {
          "base_uri": "https://localhost:8080/"
        },
        "id": "sUTeu9Ywt12Z",
        "outputId": "e04b2f97-35fe-4d16-80ec-eaaf25065231"
      },
      "source": [
        "# lets look at how part of our text is encoded\n",
        "print(\"Text:\", text[:13])\n",
        "print(\"Encoded:\", text_to_int(text[:13]))"
      ],
      "execution_count": 6,
      "outputs": [
        {
          "output_type": "stream",
          "text": [
            "Text: First Citizen\n",
            "Encoded: [18 47 56 57 58  1 15 47 58 47 64 43 52]\n"
          ],
          "name": "stdout"
        }
      ]
    },
    {
      "cell_type": "markdown",
      "metadata": {
        "id": "en66kH3JuCby"
      },
      "source": [
        "And here we will make a function that can convert our numeric values to text.\n"
      ]
    },
    {
      "cell_type": "code",
      "metadata": {
        "colab": {
          "base_uri": "https://localhost:8080/"
        },
        "id": "6REvEhIvuC8L",
        "outputId": "4ca8b145-e8d1-444a-afcf-2c9fe9dca1a4"
      },
      "source": [
        "def int_to_text(ints):\n",
        "  try:\n",
        "    ints = ints.numpy()\n",
        "  except:\n",
        "    pass\n",
        "  return ''.join(idx2char[ints])\n",
        "\n",
        "print(int_to_text(text_as_int[:13]))"
      ],
      "execution_count": 7,
      "outputs": [
        {
          "output_type": "stream",
          "text": [
            "First Citizen\n"
          ],
          "name": "stdout"
        }
      ]
    },
    {
      "cell_type": "markdown",
      "metadata": {
        "id": "eYyLd5AXuIOJ"
      },
      "source": [
        "###Creating Training Examples\n",
        "Remember our task is to feed the model a sequence and have it return to us the next character. This means we need to split our text data from above into many shorter sequences that we can pass to the model as training examples. \n",
        "\n",
        "The training examples we will prepapre will use a *seq_length* sequence as input and a *seq_length* sequence as the output where that sequence is the original sequence shifted one letter to the right. For example:\n",
        "\n",
        "```input: Hell | output: ello```\n",
        "\n",
        "Our first step will be to create a stream of characters from our text data."
      ]
    },
    {
      "cell_type": "code",
      "metadata": {
        "id": "7bUWw4wruGZp"
      },
      "source": [
        "seq_length = 100  # length of sequence for a training example\n",
        "examples_per_epoch = len(text)//(seq_length+1)\n",
        "\n",
        "# Create training examples / targets  # Converts entire string datasets into characters \n",
        "char_dataset = tf.data.Dataset.from_tensor_slices(text_as_int)"
      ],
      "execution_count": 8,
      "outputs": []
    },
    {
      "cell_type": "markdown",
      "metadata": {
        "id": "W6zTPwH6uNDq"
      },
      "source": [
        "Next we can use the batch method to turn this stream of characters into batches of desired length."
      ]
    },
    {
      "cell_type": "code",
      "metadata": {
        "id": "whzrXjsyuO5Z"
      },
      "source": [
        "sequences = char_dataset.batch(seq_length+1, drop_remainder=True)  # Takes the entire dataset and creates batches 101 "
      ],
      "execution_count": 9,
      "outputs": []
    },
    {
      "cell_type": "markdown",
      "metadata": {
        "id": "JqzK9PkYuRIc"
      },
      "source": [
        "Now we need to use these sequences of length 101 and split them into input and output."
      ]
    },
    {
      "cell_type": "code",
      "metadata": {
        "id": "NlhR0gEouRwJ"
      },
      "source": [
        "def split_input_target(chunk):  # for the example: hello\n",
        "    input_text = chunk[:-1]  # hell\n",
        "    target_text = chunk[1:]  # ello\n",
        "    return input_text, target_text  # hell, ello\n",
        "\n",
        "dataset = sequences.map(split_input_target)  # we use map to apply the above function to every entry"
      ],
      "execution_count": 10,
      "outputs": []
    },
    {
      "cell_type": "code",
      "metadata": {
        "colab": {
          "base_uri": "https://localhost:8080/"
        },
        "id": "kPFXrlddxRGZ",
        "outputId": "2e6975b5-d6e9-415c-c97e-990b7b6e3da3"
      },
      "source": [
        "for x, y in dataset.take(2):\n",
        "  print(\"\\n\\nEXAMPLE\\n\")\n",
        "  print(\"INPUT\")\n",
        "  print(int_to_text(x))\n",
        "  print(\"\\nOUTPUT\")\n",
        "  print(int_to_text(y))"
      ],
      "execution_count": 11,
      "outputs": [
        {
          "output_type": "stream",
          "text": [
            "\n",
            "\n",
            "EXAMPLE\n",
            "\n",
            "INPUT\n",
            "First Citizen:\n",
            "Before we proceed any further, hear me speak.\n",
            "\n",
            "All:\n",
            "Speak, speak.\n",
            "\n",
            "First Citizen:\n",
            "You\n",
            "\n",
            "OUTPUT\n",
            "irst Citizen:\n",
            "Before we proceed any further, hear me speak.\n",
            "\n",
            "All:\n",
            "Speak, speak.\n",
            "\n",
            "First Citizen:\n",
            "You \n",
            "\n",
            "\n",
            "EXAMPLE\n",
            "\n",
            "INPUT\n",
            "are all resolved rather to die than to famish?\n",
            "\n",
            "All:\n",
            "Resolved. resolved.\n",
            "\n",
            "First Citizen:\n",
            "First, you \n",
            "\n",
            "OUTPUT\n",
            "re all resolved rather to die than to famish?\n",
            "\n",
            "All:\n",
            "Resolved. resolved.\n",
            "\n",
            "First Citizen:\n",
            "First, you k\n"
          ],
          "name": "stdout"
        }
      ]
    },
    {
      "cell_type": "markdown",
      "metadata": {
        "id": "bugQ1Ly6xU_J"
      },
      "source": [
        "Finally we need to make training batches."
      ]
    },
    {
      "cell_type": "code",
      "metadata": {
        "id": "DxUd8GpYxV-E"
      },
      "source": [
        "BATCH_SIZE = 64\n",
        "VOCAB_SIZE = len(vocab)  # vocab is number of unique characters\n",
        "EMBEDDING_DIM = 256\n",
        "RNN_UNITS = 1024\n",
        "\n",
        "# Buffer size to shuffle the dataset\n",
        "# (TF data is designed to work with possibly infinite sequences,\n",
        "# so it doesn't attempt to shuffle the entire sequence in memory. Instead,\n",
        "# it maintains a buffer in which it shuffles elements).\n",
        "BUFFER_SIZE = 10000\n",
        "\n",
        "data = dataset.shuffle(BUFFER_SIZE).batch(BATCH_SIZE, drop_remainder=True) # Shuffles the order"
      ],
      "execution_count": 12,
      "outputs": []
    },
    {
      "cell_type": "markdown",
      "metadata": {
        "id": "kOkqUg31yhEi"
      },
      "source": [
        "###Building the Model\n",
        "Now it is time to build the model. We will use an embedding layer a LSTM and one dense layer that contains a node for each unique character in our training data. The dense layer will give us a probability distribution over all nodes."
      ]
    },
    {
      "cell_type": "code",
      "metadata": {
        "colab": {
          "base_uri": "https://localhost:8080/"
        },
        "id": "Vkgcpl1UyezM",
        "outputId": "7db089b7-737a-4782-dee2-edb3c64e6361"
      },
      "source": [
        "def build_model(vocab_size, embedding_dim, rnn_units, batch_size):\n",
        "  model = tf.keras.Sequential([\n",
        "    tf.keras.layers.Embedding(vocab_size, embedding_dim,\n",
        "                              batch_input_shape=[batch_size, None]),\n",
        "    tf.keras.layers.LSTM(rnn_units,\n",
        "                        return_sequences=True, \n",
        "                        stateful=True,\n",
        "                        recurrent_initializer='glorot_uniform'),\n",
        "    tf.keras.layers.Dense(vocab_size)\n",
        "  ])\n",
        "  return model\n",
        "\n",
        "model = build_model(VOCAB_SIZE,EMBEDDING_DIM, RNN_UNITS, BATCH_SIZE)\n",
        "model.summary()"
      ],
      "execution_count": 14,
      "outputs": [
        {
          "output_type": "stream",
          "text": [
            "Model: \"sequential\"\n",
            "_________________________________________________________________\n",
            "Layer (type)                 Output Shape              Param #   \n",
            "=================================================================\n",
            "embedding (Embedding)        (64, None, 256)           16640     \n",
            "_________________________________________________________________\n",
            "lstm (LSTM)                  (64, None, 1024)          5246976   \n",
            "_________________________________________________________________\n",
            "dense (Dense)                (64, None, 65)            66625     \n",
            "=================================================================\n",
            "Total params: 5,330,241\n",
            "Trainable params: 5,330,241\n",
            "Non-trainable params: 0\n",
            "_________________________________________________________________\n"
          ],
          "name": "stdout"
        }
      ]
    },
    {
      "cell_type": "markdown",
      "metadata": {
        "id": "cYpUdkz3y0jq"
      },
      "source": [
        "###Creating a Loss Function\n",
        "Now we are going to create our own loss function for this problem. This is because our model will output a (64, sequence_length, 65) shaped tensor that represents the probability distribution of each character at each timestep for every sequence in the batch. \n",
        "\n"
      ]
    },
    {
      "cell_type": "markdown",
      "metadata": {
        "id": "pb6MuL9Py5V9"
      },
      "source": [
        "However, before we do that let's have a look at a sample input and the output from our untrained model. This is so we can understand what the model is giving us.\n",
        "\n"
      ]
    },
    {
      "cell_type": "code",
      "metadata": {
        "colab": {
          "base_uri": "https://localhost:8080/"
        },
        "id": "vASHv1L9y7Xz",
        "outputId": "20e17eb4-9bd7-4be2-cdf1-d6036c84d4c0"
      },
      "source": [
        "for input_example_batch, target_example_batch in data.take(1):\n",
        "  example_batch_predictions = model(input_example_batch)  # ask our model for a prediction on our first batch of training data (64 entries)\n",
        "  print(example_batch_predictions.shape, \"# (batch_size, sequence_length, vocab_size)\")  # print out the output shape"
      ],
      "execution_count": 15,
      "outputs": [
        {
          "output_type": "stream",
          "text": [
            "(64, 100, 65) # (batch_size, sequence_length, vocab_size)\n"
          ],
          "name": "stdout"
        }
      ]
    },
    {
      "cell_type": "code",
      "metadata": {
        "colab": {
          "base_uri": "https://localhost:8080/"
        },
        "id": "yINV7U5uy8wO",
        "outputId": "22657a10-e681-497a-acbd-2364f5f2cac6"
      },
      "source": [
        "# we can see that the predicition is an array of 64 arrays, one for each entry in the batch\n",
        "print(len(example_batch_predictions) )\n",
        "print(example_batch_predictions)"
      ],
      "execution_count": 16,
      "outputs": [
        {
          "output_type": "stream",
          "text": [
            "64\n",
            "tf.Tensor(\n",
            "[[[ 1.98188983e-03 -8.46802955e-04 -2.45996425e-03 ...  2.11712020e-03\n",
            "   -2.31040921e-03 -3.31572234e-03]\n",
            "  [ 1.30212656e-03 -4.95597487e-04 -2.29516416e-04 ...  3.21594393e-03\n",
            "   -4.52112901e-04 -5.24228439e-03]\n",
            "  [-6.14156667e-03  3.80122568e-04 -4.09716927e-03 ...  3.66235338e-03\n",
            "    7.41130207e-03 -3.49078327e-03]\n",
            "  ...\n",
            "  [-7.10278004e-03 -3.10292467e-04 -6.04233565e-03 ...  8.17094184e-03\n",
            "    7.12850317e-03  3.25887022e-03]\n",
            "  [-5.93216484e-03 -1.58901559e-03 -3.86618637e-03 ...  7.27121206e-03\n",
            "    7.15883635e-03 -1.00899953e-04]\n",
            "  [-3.76986247e-03 -1.69467647e-03 -4.79500741e-05 ...  5.14985435e-03\n",
            "    5.59779583e-03  3.22622061e-03]]\n",
            "\n",
            " [[-2.10548332e-03  1.17196399e-03 -6.73577888e-04 ...  1.54859736e-03\n",
            "    1.20212615e-04  2.76073744e-03]\n",
            "  [-2.72728200e-03  1.83508778e-03  5.76603110e-04 ... -3.14380601e-03\n",
            "    5.16806310e-03  4.70108073e-03]\n",
            "  [-3.24416859e-03  4.91426000e-03 -7.08135171e-03 ... -7.33773969e-03\n",
            "    1.83752249e-03 -4.30461019e-04]\n",
            "  ...\n",
            "  [-7.48542044e-03 -1.54754557e-02 -1.23106614e-02 ... -8.33269581e-03\n",
            "    5.02018724e-04 -1.89261744e-04]\n",
            "  [-3.91078182e-03 -1.38155203e-02 -1.08104451e-02 ... -7.50033744e-03\n",
            "    6.99476618e-03  1.09193055e-03]\n",
            "  [ 2.51232088e-03 -1.10125160e-02 -1.02506569e-02 ... -9.42424312e-03\n",
            "   -1.23922294e-03  3.93534172e-03]]\n",
            "\n",
            " [[ 1.22643064e-03 -2.04317132e-03  3.75438319e-03 ...  8.36435938e-05\n",
            "    2.78113224e-03  6.09735074e-03]\n",
            "  [-4.51328885e-03 -1.01419573e-03  1.28274621e-03 ...  2.19821115e-03\n",
            "    3.15529667e-03  8.65196250e-03]\n",
            "  [-1.58163137e-03 -1.44231436e-03 -1.40559883e-03 ...  3.57518764e-03\n",
            "   -9.83475911e-05  2.55125249e-03]\n",
            "  ...\n",
            "  [-1.97554892e-03 -5.74361766e-03  4.74953093e-03 ... -1.38967810e-03\n",
            "    9.49960016e-03  6.37643412e-03]\n",
            "  [ 4.36267350e-04 -5.51549857e-03  7.55590945e-03 ... -3.06235999e-03\n",
            "    1.10865273e-02  1.09002125e-02]\n",
            "  [ 3.43857100e-04 -2.84831645e-03  6.52368646e-03 ... -2.84587801e-03\n",
            "    1.03284931e-02  5.47731668e-03]]\n",
            "\n",
            " ...\n",
            "\n",
            " [[ 1.99853035e-04 -2.61560944e-03 -3.48696811e-03 ... -3.74003284e-04\n",
            "    5.00961114e-03 -4.39068303e-03]\n",
            "  [ 7.36674713e-03  1.81438774e-03 -3.90401715e-03 ...  5.97270485e-03\n",
            "    8.99278559e-03 -4.55177436e-03]\n",
            "  [-1.10876921e-03  2.97819334e-03 -7.01541593e-03 ...  4.35222406e-03\n",
            "    1.22538377e-02 -8.83026165e-04]\n",
            "  ...\n",
            "  [-8.37545190e-03 -5.52758249e-03  1.35332451e-03 ... -3.37197352e-03\n",
            "    7.82839861e-03  1.00032948e-02]\n",
            "  [-6.25439687e-03 -1.71504286e-03  4.23124433e-03 ... -2.17379676e-03\n",
            "    6.70806924e-03  1.21433157e-02]\n",
            "  [-8.87855794e-03  3.92258773e-03  5.48378890e-03 ... -2.68056616e-03\n",
            "    2.25148816e-03  1.90426838e-02]]\n",
            "\n",
            " [[-6.82019163e-03  1.47195999e-03 -4.69972938e-03 ...  1.09273067e-03\n",
            "    6.26433501e-03  1.11295586e-03]\n",
            "  [-2.78525171e-03  2.32687243e-03  3.15213786e-03 ... -1.78657658e-03\n",
            "    5.00361156e-03  2.10731360e-03]\n",
            "  [-6.23172615e-03  3.02463351e-03  6.93778391e-04 ... -1.04022212e-02\n",
            "    1.97489513e-03  1.59747177e-03]\n",
            "  ...\n",
            "  [-4.59676376e-03 -7.19566830e-04 -4.44180379e-03 ... -4.66655940e-03\n",
            "    1.29100792e-02  3.59395053e-04]\n",
            "  [-4.20813262e-03  2.27861595e-03 -6.06745388e-03 ... -1.34993379e-03\n",
            "    1.03840176e-02 -2.78526545e-03]\n",
            "  [-2.74939323e-03  2.57136300e-04 -8.85848235e-03 ...  6.14239951e-04\n",
            "    3.32524232e-03  5.61755151e-04]]\n",
            "\n",
            " [[ 2.85685807e-03 -5.01148403e-04  2.59711174e-04 ... -7.02008430e-04\n",
            "    1.33351143e-03 -5.98578528e-03]\n",
            "  [ 4.04885132e-03 -3.10009345e-04  2.75343610e-03 ... -1.57085271e-03\n",
            "   -3.20755644e-04 -3.70835303e-04]\n",
            "  [ 2.94070109e-03  1.14055013e-03 -1.26283150e-03 ...  1.50228851e-03\n",
            "    2.88406038e-04 -9.63022001e-04]\n",
            "  ...\n",
            "  [-5.63412532e-03 -2.43886816e-03  1.21980708e-03 ... -6.75133709e-03\n",
            "    1.22875934e-02  5.52908238e-03]\n",
            "  [ 2.33059330e-03  7.75594206e-04 -3.10114585e-04 ...  4.10537934e-04\n",
            "    1.49349682e-02  2.18091742e-03]\n",
            "  [ 4.46962193e-03 -4.93840314e-04  5.25445794e-04 ... -2.18058960e-03\n",
            "    1.21080903e-02 -3.11476365e-03]]], shape=(64, 100, 65), dtype=float32)\n"
          ],
          "name": "stdout"
        }
      ]
    },
    {
      "cell_type": "code",
      "metadata": {
        "id": "wGTv83bsy-KP"
      },
      "source": [
        "# lets examine one prediction\n",
        "pred = example_batch_predictions[0]\n",
        "print(len(pred))\n",
        "print(pred)\n",
        "# notice this is a 2d array of length 100, where each interior array is the prediction for the next character at each time step"
      ],
      "execution_count": null,
      "outputs": []
    },
    {
      "cell_type": "code",
      "metadata": {
        "id": "5Z9qkbqFy_qR"
      },
      "source": [
        "# and finally well look at a prediction at the first timestep\n",
        "time_pred = pred[0]\n",
        "print(len(time_pred)) \n",
        "print(time_pred)\n",
        "# and of course its 65 values representing the probabillity of each character occuring next"
      ],
      "execution_count": null,
      "outputs": []
    },
    {
      "cell_type": "code",
      "metadata": {
        "colab": {
          "base_uri": "https://localhost:8080/",
          "height": 35
        },
        "id": "NAouw9nUzA_J",
        "outputId": "01c1fa8a-71ee-4681-ca0f-712373034098"
      },
      "source": [
        "# If we want to determine the predicted character we need to sample the output distribution (pick a value based on probabillity)\n",
        "sampled_indices = tf.random.categorical(pred, num_samples=1)\n",
        "\n",
        "# now we can reshape that array and convert all the integers to numbers to see the actual characters\n",
        "sampled_indices = np.reshape(sampled_indices, (1, -1))[0]\n",
        "predicted_chars = int_to_text(sampled_indices)\n",
        "\n",
        "predicted_chars  # and this is what the model predicted for training sequence 1"
      ],
      "execution_count": 19,
      "outputs": [
        {
          "output_type": "execute_result",
          "data": {
            "application/vnd.google.colaboratory.intrinsic+json": {
              "type": "string"
            },
            "text/plain": [
              "\"TBTnDbNaj;dwAgc\\n&d.-hl;Qdd'hwX!oz&nohoq,gyDNQr$giPt-SBC:VQmc&,c\\nFQOa oQJ'bEfqYs3Jf&N!A:yx ?TXyDSP!OX\""
            ]
          },
          "metadata": {
            "tags": []
          },
          "execution_count": 19
        }
      ]
    },
    {
      "cell_type": "markdown",
      "metadata": {
        "id": "NOF5jAcO3fpF"
      },
      "source": [
        "So now we need to create a loss function that can compare that output to the expected output and give us some numeric value representing how close the two were. "
      ]
    },
    {
      "cell_type": "code",
      "metadata": {
        "id": "xp2qEdDf3gWw"
      },
      "source": [
        "def loss(labels, logits):\n",
        "  return tf.keras.losses.sparse_categorical_crossentropy(labels, logits, from_logits=True)"
      ],
      "execution_count": 20,
      "outputs": []
    },
    {
      "cell_type": "markdown",
      "metadata": {
        "id": "EC_tC8kd4Jnx"
      },
      "source": [
        "###Compiling the Model\n",
        "At this point we can think of our problem as a classification problem where the model predicts the probabillity of each unique letter coming next. \n"
      ]
    },
    {
      "cell_type": "code",
      "metadata": {
        "id": "carRLaZZ4JRL"
      },
      "source": [
        "model.compile(optimizer='adam', loss=loss)"
      ],
      "execution_count": 21,
      "outputs": []
    },
    {
      "cell_type": "markdown",
      "metadata": {
        "id": "M4Esp73u4PZy"
      },
      "source": [
        "###Creating Checkpoints\n",
        "Now we are going to setup and configure our model to save checkpoinst as it trains. This will allow us to load our model from a checkpoint and continue training it."
      ]
    },
    {
      "cell_type": "code",
      "metadata": {
        "id": "x6vj758m4Q-q"
      },
      "source": [
        "# Directory where the checkpoints will be saved\n",
        "\n",
        "checkpoint_dir = '/content/training_checkpoints'\n",
        "# Name of the checkpoint files\n",
        "checkpoint_prefix = os.path.join(checkpoint_dir, \"ckpt_{epoch}\")\n",
        "\n",
        "checkpoint_callback=tf.keras.callbacks.ModelCheckpoint(\n",
        "    filepath=checkpoint_prefix,\n",
        "    save_weights_only= True)"
      ],
      "execution_count": 22,
      "outputs": []
    },
    {
      "cell_type": "markdown",
      "metadata": {
        "id": "4QTS62oA4TVR"
      },
      "source": [
        "###Training\n",
        "Finally, we will start training the model. \n",
        "\n",
        "**If this is taking a while go to Runtime > Change Runtime Type and choose \"GPU\" under hardware accelerator.**\n",
        "\n"
      ]
    },
    {
      "cell_type": "code",
      "metadata": {
        "colab": {
          "base_uri": "https://localhost:8080/"
        },
        "id": "tOYTvVvM4XYh",
        "outputId": "74fab727-f6bf-4ef4-a7a7-576f32932b86"
      },
      "source": [
        "history = model.fit(data, epochs=2, callbacks=[checkpoint_callback])"
      ],
      "execution_count": 23,
      "outputs": [
        {
          "output_type": "stream",
          "text": [
            "Epoch 1/2\n",
            "172/172 [==============================] - 14s 67ms/step - loss: 2.6039\n",
            "Epoch 2/2\n",
            "172/172 [==============================] - 13s 69ms/step - loss: 1.8865\n"
          ],
          "name": "stdout"
        }
      ]
    },
    {
      "cell_type": "markdown",
      "metadata": {
        "id": "Siq83Kpo4aVB"
      },
      "source": [
        "###Loading the Model\n",
        "We'll rebuild the model from a checkpoint using a batch_size of 1 so that we can feed one peice of text to the model and have it make a prediction."
      ]
    },
    {
      "cell_type": "code",
      "metadata": {
        "id": "S5d9thld4b4S"
      },
      "source": [
        "model = build_model(VOCAB_SIZE, EMBEDDING_DIM, RNN_UNITS, batch_size=1)"
      ],
      "execution_count": 24,
      "outputs": []
    },
    {
      "cell_type": "markdown",
      "metadata": {
        "id": "5uDxosci4dzk"
      },
      "source": [
        "Once the model is finished training, we can find the **lastest checkpoint** that stores the models weights using the following line.\n",
        "\n"
      ]
    },
    {
      "cell_type": "code",
      "metadata": {
        "id": "TjUY40Bo44KK"
      },
      "source": [
        "model.load_weights(tf.train.latest_checkpoint(checkpoint_dir))\n",
        "model.build(tf.TensorShape([1, None]))"
      ],
      "execution_count": 30,
      "outputs": []
    },
    {
      "cell_type": "markdown",
      "metadata": {
        "id": "oHNfGZUG45k6"
      },
      "source": [
        "We can load **any checkpoint** we want by specifying the exact file to load."
      ]
    },
    {
      "cell_type": "code",
      "metadata": {
        "id": "vtnvsvq849ez"
      },
      "source": [
        "\"\"\"\n",
        "checkpoint_num = 1\n",
        "model.load_weights(tf.train.load_checkpoint(\"/content/training_checkpoints/ckpt_\" + str(checkpoint_num)))\n",
        "model.build(tf.TensorShape([1, None]))\n",
        "\"\"\""
      ],
      "execution_count": null,
      "outputs": []
    },
    {
      "cell_type": "markdown",
      "metadata": {
        "id": "-bbzse685AIp"
      },
      "source": [
        "###Generating Text\n",
        "Now we can use the lovely function provided by tensorflow to generate some text using any starting string we'd like."
      ]
    },
    {
      "cell_type": "code",
      "metadata": {
        "id": "jiagClBS5C1q"
      },
      "source": [
        "def generate_text(model, start_string):\n",
        "  # Evaluation step (generating text using the learned model)\n",
        "\n",
        "  # Number of characters to generate\n",
        "  num_generate = 800\n",
        "\n",
        "  # Converting our start string to numbers (vectorizing)\n",
        "  input_eval = [char2idx[s] for s in start_string]\n",
        "  input_eval = tf.expand_dims(input_eval, 0)\n",
        "\n",
        "  # Empty string to store our results\n",
        "  text_generated = []\n",
        "\n",
        "  # Low temperatures results in more predictable text.\n",
        "  # Higher temperatures results in more surprising text.\n",
        "  # Experiment to find the best setting.\n",
        "  temperature = 1.0\n",
        "\n",
        "  # Here batch size == 1\n",
        "  model.reset_states()\n",
        "  for i in range(num_generate):\n",
        "      predictions = model(input_eval)\n",
        "      # remove the batch dimension\n",
        "    \n",
        "      predictions = tf.squeeze(predictions, 0)\n",
        "\n",
        "      # using a categorical distribution to predict the character returned by the model\n",
        "      predictions = predictions / temperature\n",
        "      predicted_id = tf.random.categorical(predictions, num_samples=1)[-1,0].numpy()\n",
        "\n",
        "      # We pass the predicted character as the next input to the model\n",
        "      # along with the previous hidden state\n",
        "      input_eval = tf.expand_dims([predicted_id], 0)\n",
        "\n",
        "      text_generated.append(idx2char[predicted_id])\n",
        "\n",
        "  return (start_string + ''.join(text_generated))"
      ],
      "execution_count": 27,
      "outputs": []
    },
    {
      "cell_type": "code",
      "metadata": {
        "id": "py3mQe3p5GVC",
        "colab": {
          "base_uri": "https://localhost:8080/"
        },
        "outputId": "3d2bb93a-d8ab-4cf6-bf10-b2a90269d263"
      },
      "source": [
        "inp = input(\"Type a starting string: \")\n",
        "print(generate_text(model, inp))"
      ],
      "execution_count": 28,
      "outputs": [
        {
          "output_type": "stream",
          "text": [
            "Type a starting string: Romeo\n",
            "Romeo\n",
            "atw his hone suars with thriefting apasuit.\n",
            "De and a cauftre, and must take of yer\n",
            "Thus ins mouse your Marse of a guve a gruce:\n",
            "APEver:\n",
            "Aur, dy uty madue's fer.\n",
            "\n",
            "HORRXYSBE:\n",
            "Why is to pire it me; lord battis gropfelch\n",
            "ET hing with his fince shave, his with other the eacs,\n",
            "And\n",
            "Caurcuineve as a being, as a den my viitured ol eintroy\n",
            "You wail to you are shall you, pray limauge; you think to bafio.\n",
            "\n",
            "HAMNINA EORY:\n",
            "What now conte her to kind, edou.\n",
            "\n",
            "A hand'e hatm tre knond pricknss of may leary veins swnike for\n",
            "with thouse dore't that thus came mey, the lost when he earty abropl.\n",
            "\n",
            "TONHERS:\n",
            "Come, if you your wimubg ofleent!\n",
            "Mariont the duse?\n",
            "\n",
            "ISHARD:\n",
            "Nomous slaitors, by whower, good my with youz in twe shoppmost,\n",
            "Tike in this unftremalous beding'Ty von and to swervim.\n",
            "You was be shall is thro kil\n"
          ],
          "name": "stdout"
        }
      ]
    },
    {
      "cell_type": "markdown",
      "metadata": {
        "id": "gtq_KA3X5IJa"
      },
      "source": [
        "*And* that's pretty much it for this module! I highly reccomend messing with the model we just created and seeing what you can get it to do!"
      ]
    },
    {
      "cell_type": "markdown",
      "metadata": {
        "id": "NlukV7MU5J4K"
      },
      "source": [
        "##Sources\n",
        "\n",
        "1. Chollet François. Deep Learning with Python. Manning Publications Co., 2018.\n",
        "2. “Text Classification with an RNN &nbsp;: &nbsp; TensorFlow Core.” TensorFlow, www.tensorflow.org/tutorials/text/text_classification_rnn.\n",
        "3. “Text Generation with an RNN &nbsp;: &nbsp; TensorFlow Core.” TensorFlow, www.tensorflow.org/tutorials/text/text_generation.\n",
        "4. “Understanding LSTM Networks.” Understanding LSTM Networks -- Colah's Blog, https://colah.github.io/posts/2015-08-Understanding-LSTMs/."
      ]
    }
  ]
}