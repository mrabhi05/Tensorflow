{
  "nbformat": 4,
  "nbformat_minor": 0,
  "metadata": {
    "colab": {
      "name": "Classification.ipynb",
      "provenance": [],
      "collapsed_sections": [],
      "authorship_tag": "ABX9TyMaF3cP3R0PGHDuKiZwrw0Z",
      "include_colab_link": true
    },
    "kernelspec": {
      "name": "python3",
      "display_name": "Python 3"
    },
    "language_info": {
      "name": "python"
    }
  },
  "cells": [
    {
      "cell_type": "markdown",
      "metadata": {
        "id": "view-in-github",
        "colab_type": "text"
      },
      "source": [
        "<a href=\"https://colab.research.google.com/github/mrabhi05/Tensorflow/blob/main/Classification.ipynb\" target=\"_parent\"><img src=\"https://colab.research.google.com/assets/colab-badge.svg\" alt=\"Open In Colab\"/></a>"
      ]
    },
    {
      "cell_type": "markdown",
      "metadata": {
        "id": "486cPOm23FDv"
      },
      "source": [
        "## Classification\n",
        "Where regression was used to predict a numeric value, classification is used to separate data points into classes of different labels"
      ]
    },
    {
      "cell_type": "markdown",
      "metadata": {
        "id": "oZgKPEtE3jb1"
      },
      "source": [
        "### Imports and Setup\n",
        "\n"
      ]
    },
    {
      "cell_type": "code",
      "metadata": {
        "id": "b_MhwUywMxMe"
      },
      "source": [
        "%tensorflow_version 2.x"
      ],
      "execution_count": null,
      "outputs": []
    },
    {
      "cell_type": "code",
      "metadata": {
        "id": "4Fi-vbut3rVM"
      },
      "source": [
        "from __future__ import absolute_import, division, print_function, unicode_literals\n",
        "\n",
        "import tensorflow as tf\n",
        "\n",
        "import pandas as pd "
      ],
      "execution_count": null,
      "outputs": []
    },
    {
      "cell_type": "markdown",
      "metadata": {
        "id": "36Ax3ScP37iP"
      },
      "source": [
        "### Dataset Description\n",
        "\n",
        "This specific dataset separates flowers into 3 different classes of species.\n",
        "\n",
        "*   Setosa\n",
        "*   Versicolor\n",
        "*   Virginica\n",
        "\n",
        "The information about each flower is the following.\n",
        "\n",
        "*   Sepal Length\n",
        "*   Sepal Width\n",
        "*   Petal Length\n",
        "*   Petal Width"
      ]
    },
    {
      "cell_type": "code",
      "metadata": {
        "id": "gi4w3Nyi4iVg"
      },
      "source": [
        "CSV_COLUMN_NAMES = ['SepalLength','SepalWidth','PetalLength','PetalWidth', 'Species']\n",
        "SPECIES = ['Setosa', 'Versicolor','Virginca']\n",
        "\n",
        "# Let's define constants to help us later on"
      ],
      "execution_count": null,
      "outputs": []
    },
    {
      "cell_type": "code",
      "metadata": {
        "colab": {
          "base_uri": "https://localhost:8080/"
        },
        "id": "MQlyylHj49if",
        "outputId": "d04bf906-1d7d-4985-c19b-4bdbd8e0f077"
      },
      "source": [
        "train_path = tf.keras.utils.get_file(\n",
        "    \"iris_training.csv\", \"https://storage.googleapis.com/download.tensorflow.org/data/iris_training.csv\")\n",
        "test_path = tf.keras.utils.get_file(\n",
        "    \"iris_test.csv\", \"https://storage.googleapis.com/download.tensorflow.org/data/iris_test.csv\")\n",
        "\n",
        "train = pd.read_csv(train_path, names=CSV_COLUMN_NAMES, header=0)\n",
        "test = pd.read_csv(test_path, names=CSV_COLUMN_NAMES, header=0)"
      ],
      "execution_count": null,
      "outputs": [
        {
          "output_type": "stream",
          "text": [
            "Downloading data from https://storage.googleapis.com/download.tensorflow.org/data/iris_training.csv\n",
            "8192/2194 [================================================================================================================] - 0s 0us/step\n",
            "Downloading data from https://storage.googleapis.com/download.tensorflow.org/data/iris_test.csv\n",
            "8192/573 [============================================================================================================================================================================================================================================================================================================================================================================================================================================] - 0s 0us/step\n"
          ],
          "name": "stdout"
        }
      ]
    },
    {
      "cell_type": "code",
      "metadata": {
        "colab": {
          "base_uri": "https://localhost:8080/",
          "height": 195
        },
        "id": "0iSKnDrF5oNY",
        "outputId": "6e0bb4de-8867-4f55-9f6a-9889ff1e6aaa"
      },
      "source": [
        "train.head()"
      ],
      "execution_count": null,
      "outputs": [
        {
          "output_type": "execute_result",
          "data": {
            "text/html": [
              "<div>\n",
              "<style scoped>\n",
              "    .dataframe tbody tr th:only-of-type {\n",
              "        vertical-align: middle;\n",
              "    }\n",
              "\n",
              "    .dataframe tbody tr th {\n",
              "        vertical-align: top;\n",
              "    }\n",
              "\n",
              "    .dataframe thead th {\n",
              "        text-align: right;\n",
              "    }\n",
              "</style>\n",
              "<table border=\"1\" class=\"dataframe\">\n",
              "  <thead>\n",
              "    <tr style=\"text-align: right;\">\n",
              "      <th></th>\n",
              "      <th>SepalLength</th>\n",
              "      <th>SepalWidth</th>\n",
              "      <th>PetalLength</th>\n",
              "      <th>PetalWidth</th>\n",
              "      <th>Species</th>\n",
              "    </tr>\n",
              "  </thead>\n",
              "  <tbody>\n",
              "    <tr>\n",
              "      <th>0</th>\n",
              "      <td>6.4</td>\n",
              "      <td>2.8</td>\n",
              "      <td>5.6</td>\n",
              "      <td>2.2</td>\n",
              "      <td>2</td>\n",
              "    </tr>\n",
              "    <tr>\n",
              "      <th>1</th>\n",
              "      <td>5.0</td>\n",
              "      <td>2.3</td>\n",
              "      <td>3.3</td>\n",
              "      <td>1.0</td>\n",
              "      <td>1</td>\n",
              "    </tr>\n",
              "    <tr>\n",
              "      <th>2</th>\n",
              "      <td>4.9</td>\n",
              "      <td>2.5</td>\n",
              "      <td>4.5</td>\n",
              "      <td>1.7</td>\n",
              "      <td>2</td>\n",
              "    </tr>\n",
              "    <tr>\n",
              "      <th>3</th>\n",
              "      <td>4.9</td>\n",
              "      <td>3.1</td>\n",
              "      <td>1.5</td>\n",
              "      <td>0.1</td>\n",
              "      <td>0</td>\n",
              "    </tr>\n",
              "    <tr>\n",
              "      <th>4</th>\n",
              "      <td>5.7</td>\n",
              "      <td>3.8</td>\n",
              "      <td>1.7</td>\n",
              "      <td>0.3</td>\n",
              "      <td>0</td>\n",
              "    </tr>\n",
              "  </tbody>\n",
              "</table>\n",
              "</div>"
            ],
            "text/plain": [
              "   SepalLength  SepalWidth  PetalLength  PetalWidth  Species\n",
              "0          6.4         2.8          5.6         2.2        2\n",
              "1          5.0         2.3          3.3         1.0        1\n",
              "2          4.9         2.5          4.5         1.7        2\n",
              "3          4.9         3.1          1.5         0.1        0\n",
              "4          5.7         3.8          1.7         0.3        0"
            ]
          },
          "metadata": {
            "tags": []
          },
          "execution_count": 7
        }
      ]
    },
    {
      "cell_type": "markdown",
      "metadata": {
        "id": "ShzqqZXm5uzV"
      },
      "source": [
        "Popping the species column from our training data and using it as label\n"
      ]
    },
    {
      "cell_type": "code",
      "metadata": {
        "colab": {
          "base_uri": "https://localhost:8080/",
          "height": 195
        },
        "id": "4UcgjdpH5srZ",
        "outputId": "adf633d3-8520-461b-8a68-fc706aed920a"
      },
      "source": [
        "#train_y = train.pop('Species')\n",
        "#test_y = test.pop('Species')\n",
        "train.head() # The Species column is now gone"
      ],
      "execution_count": null,
      "outputs": [
        {
          "output_type": "execute_result",
          "data": {
            "text/html": [
              "<div>\n",
              "<style scoped>\n",
              "    .dataframe tbody tr th:only-of-type {\n",
              "        vertical-align: middle;\n",
              "    }\n",
              "\n",
              "    .dataframe tbody tr th {\n",
              "        vertical-align: top;\n",
              "    }\n",
              "\n",
              "    .dataframe thead th {\n",
              "        text-align: right;\n",
              "    }\n",
              "</style>\n",
              "<table border=\"1\" class=\"dataframe\">\n",
              "  <thead>\n",
              "    <tr style=\"text-align: right;\">\n",
              "      <th></th>\n",
              "      <th>SepalLength</th>\n",
              "      <th>SepalWidth</th>\n",
              "      <th>PetalLength</th>\n",
              "      <th>PetalWidth</th>\n",
              "    </tr>\n",
              "  </thead>\n",
              "  <tbody>\n",
              "    <tr>\n",
              "      <th>0</th>\n",
              "      <td>6.4</td>\n",
              "      <td>2.8</td>\n",
              "      <td>5.6</td>\n",
              "      <td>2.2</td>\n",
              "    </tr>\n",
              "    <tr>\n",
              "      <th>1</th>\n",
              "      <td>5.0</td>\n",
              "      <td>2.3</td>\n",
              "      <td>3.3</td>\n",
              "      <td>1.0</td>\n",
              "    </tr>\n",
              "    <tr>\n",
              "      <th>2</th>\n",
              "      <td>4.9</td>\n",
              "      <td>2.5</td>\n",
              "      <td>4.5</td>\n",
              "      <td>1.7</td>\n",
              "    </tr>\n",
              "    <tr>\n",
              "      <th>3</th>\n",
              "      <td>4.9</td>\n",
              "      <td>3.1</td>\n",
              "      <td>1.5</td>\n",
              "      <td>0.1</td>\n",
              "    </tr>\n",
              "    <tr>\n",
              "      <th>4</th>\n",
              "      <td>5.7</td>\n",
              "      <td>3.8</td>\n",
              "      <td>1.7</td>\n",
              "      <td>0.3</td>\n",
              "    </tr>\n",
              "  </tbody>\n",
              "</table>\n",
              "</div>"
            ],
            "text/plain": [
              "   SepalLength  SepalWidth  PetalLength  PetalWidth\n",
              "0          6.4         2.8          5.6         2.2\n",
              "1          5.0         2.3          3.3         1.0\n",
              "2          4.9         2.5          4.5         1.7\n",
              "3          4.9         3.1          1.5         0.1\n",
              "4          5.7         3.8          1.7         0.3"
            ]
          },
          "metadata": {
            "tags": []
          },
          "execution_count": 10
        }
      ]
    },
    {
      "cell_type": "code",
      "metadata": {
        "colab": {
          "base_uri": "https://localhost:8080/"
        },
        "id": "YrdNBr4d6DR7",
        "outputId": "daa758d5-5ce6-477e-d796-316757e92a15"
      },
      "source": [
        "train.shape"
      ],
      "execution_count": null,
      "outputs": [
        {
          "output_type": "execute_result",
          "data": {
            "text/plain": [
              "(120, 4)"
            ]
          },
          "metadata": {
            "tags": []
          },
          "execution_count": 11
        }
      ]
    },
    {
      "cell_type": "markdown",
      "metadata": {
        "id": "2xBw85b16ytZ"
      },
      "source": [
        "### Input Function"
      ]
    },
    {
      "cell_type": "code",
      "metadata": {
        "id": "zCOhlrwZ6SnA"
      },
      "source": [
        "def input_fn(features, labels, training=True, batch_size=256): #An input function for training or evaluating\n",
        "    # Convert the inputs to a Dataset. \n",
        "    dataset = tf.data.Dataset.from_tensor_slices((dict(features), labels))\n",
        "\n",
        "    # Shuffle and repeat if you are in training mode.\n",
        "    if training:\n",
        "        dataset = dataset.shuffle(1000).repeat()\n",
        "\n",
        "    return dataset.batch(batch_size)"
      ],
      "execution_count": null,
      "outputs": []
    },
    {
      "cell_type": "markdown",
      "metadata": {
        "id": "D_Qhlb_r61i0"
      },
      "source": [
        "### Feature Columns"
      ]
    },
    {
      "cell_type": "code",
      "metadata": {
        "id": "rCScL7BY6whi"
      },
      "source": [
        "# Feature columns describe how to use the input.\n",
        "my_feature_columns = []\n",
        "for key in train.keys():\n",
        "    my_feature_columns.append(tf.feature_column.numeric_column(key=key))"
      ],
      "execution_count": null,
      "outputs": []
    },
    {
      "cell_type": "code",
      "metadata": {
        "colab": {
          "base_uri": "https://localhost:8080/"
        },
        "id": "Zz5F64ZG7QzG",
        "outputId": "6851cf5c-f9ac-422e-c5ba-25030b89dd4d"
      },
      "source": [
        "print(my_feature_columns)"
      ],
      "execution_count": null,
      "outputs": [
        {
          "output_type": "stream",
          "text": [
            "[NumericColumn(key='SepalLength', shape=(1,), default_value=None, dtype=tf.float32, normalizer_fn=None), NumericColumn(key='SepalWidth', shape=(1,), default_value=None, dtype=tf.float32, normalizer_fn=None), NumericColumn(key='PetalLength', shape=(1,), default_value=None, dtype=tf.float32, normalizer_fn=None), NumericColumn(key='PetalWidth', shape=(1,), default_value=None, dtype=tf.float32, normalizer_fn=None)]\n"
          ],
          "name": "stdout"
        }
      ]
    },
    {
      "cell_type": "markdown",
      "metadata": {
        "id": "gEdE7x5r7mBg"
      },
      "source": [
        "### Building the Model\n",
        "\n",
        "For CLassification, There are variety of different estimators/models that we can pick from.\n",
        "\n",
        "Some options are listed below:\n",
        "\n",
        "*   DNNClassifier (Deep Neural Network)\n",
        "*   LinearClassification\n",
        "\n",
        "We can choose either of them but the DNN seems to be the best choice. This is because we may be able to find a linear coorespondance in our data.\n"
      ]
    },
    {
      "cell_type": "code",
      "metadata": {
        "colab": {
          "base_uri": "https://localhost:8080/"
        },
        "id": "Mv35aRsn7WUn",
        "outputId": "36f27043-8b2c-49f6-e0ae-936959e875ab"
      },
      "source": [
        "# Build a DNN with 2 hidden layers with 30 and 10 hidden nodes each.\n",
        "classifier = tf.estimator.DNNClassifier(\n",
        "    feature_columns=my_feature_columns,\n",
        "    # Two hidden layers of 30 and 10 nodes respectively.\n",
        "    hidden_units=[30, 10],\n",
        "    # The model must choose between 3 classes.\n",
        "    n_classes=3)"
      ],
      "execution_count": null,
      "outputs": [
        {
          "output_type": "stream",
          "text": [
            "INFO:tensorflow:Using default config.\n",
            "WARNING:tensorflow:Using temporary folder as model directory: /tmp/tmpb7fid6cc\n",
            "INFO:tensorflow:Using config: {'_model_dir': '/tmp/tmpb7fid6cc', '_tf_random_seed': None, '_save_summary_steps': 100, '_save_checkpoints_steps': None, '_save_checkpoints_secs': 600, '_session_config': allow_soft_placement: true\n",
            "graph_options {\n",
            "  rewrite_options {\n",
            "    meta_optimizer_iterations: ONE\n",
            "  }\n",
            "}\n",
            ", '_keep_checkpoint_max': 5, '_keep_checkpoint_every_n_hours': 10000, '_log_step_count_steps': 100, '_train_distribute': None, '_device_fn': None, '_protocol': None, '_eval_distribute': None, '_experimental_distribute': None, '_experimental_max_worker_delay_secs': None, '_session_creation_timeout_secs': 7200, '_checkpoint_save_graph_def': True, '_service': None, '_cluster_spec': ClusterSpec({}), '_task_type': 'worker', '_task_id': 0, '_global_id_in_cluster': 0, '_master': '', '_evaluation_master': '', '_is_chief': True, '_num_ps_replicas': 0, '_num_worker_replicas': 1}\n"
          ],
          "name": "stdout"
        }
      ]
    },
    {
      "cell_type": "markdown",
      "metadata": {
        "id": "DvcUbsXp9BcP"
      },
      "source": [
        "### Training\n"
      ]
    },
    {
      "cell_type": "code",
      "metadata": {
        "colab": {
          "base_uri": "https://localhost:8080/"
        },
        "id": "nXGv--R99DlR",
        "outputId": "22607b6c-2b22-423b-e4b0-31f961693c48"
      },
      "source": [
        "classifier.train(\n",
        "    input_fn=lambda: input_fn(train, train_y,training=True),steps=5000\n",
        ")\n",
        "# We include a lambda to avoid creating an inner function previously"
      ],
      "execution_count": null,
      "outputs": [
        {
          "output_type": "stream",
          "text": [
            "WARNING:tensorflow:From /usr/local/lib/python3.7/dist-packages/tensorflow/python/training/training_util.py:236: Variable.initialized_value (from tensorflow.python.ops.variables) is deprecated and will be removed in a future version.\n",
            "Instructions for updating:\n",
            "Use Variable.read_value. Variables in 2.X are initialized automatically both in eager and graph (inside tf.defun) contexts.\n",
            "INFO:tensorflow:Calling model_fn.\n",
            "WARNING:tensorflow:From /usr/local/lib/python3.7/dist-packages/tensorflow/python/keras/optimizer_v2/adagrad.py:88: calling Constant.__init__ (from tensorflow.python.ops.init_ops) with dtype is deprecated and will be removed in a future version.\n",
            "Instructions for updating:\n",
            "Call initializer instance with the dtype argument instead of passing it to the constructor\n",
            "INFO:tensorflow:Done calling model_fn.\n",
            "INFO:tensorflow:Create CheckpointSaverHook.\n",
            "INFO:tensorflow:Graph was finalized.\n",
            "INFO:tensorflow:Running local_init_op.\n",
            "INFO:tensorflow:Done running local_init_op.\n",
            "INFO:tensorflow:Calling checkpoint listeners before saving checkpoint 0...\n",
            "INFO:tensorflow:Saving checkpoints for 0 into /tmp/tmpb7fid6cc/model.ckpt.\n",
            "INFO:tensorflow:Calling checkpoint listeners after saving checkpoint 0...\n",
            "INFO:tensorflow:loss = 1.4369813, step = 0\n",
            "INFO:tensorflow:global_step/sec: 415.392\n",
            "INFO:tensorflow:loss = 1.0193148, step = 100 (0.246 sec)\n",
            "INFO:tensorflow:global_step/sec: 494.409\n",
            "INFO:tensorflow:loss = 0.8902844, step = 200 (0.203 sec)\n",
            "INFO:tensorflow:global_step/sec: 449.629\n",
            "INFO:tensorflow:loss = 0.8561795, step = 300 (0.219 sec)\n",
            "INFO:tensorflow:global_step/sec: 516.819\n",
            "INFO:tensorflow:loss = 0.82433814, step = 400 (0.194 sec)\n",
            "INFO:tensorflow:global_step/sec: 465.719\n",
            "INFO:tensorflow:loss = 0.80529, step = 500 (0.215 sec)\n",
            "INFO:tensorflow:global_step/sec: 516.128\n",
            "INFO:tensorflow:loss = 0.77145636, step = 600 (0.197 sec)\n",
            "INFO:tensorflow:global_step/sec: 479.938\n",
            "INFO:tensorflow:loss = 0.75786644, step = 700 (0.209 sec)\n",
            "INFO:tensorflow:global_step/sec: 486.037\n",
            "INFO:tensorflow:loss = 0.7386877, step = 800 (0.202 sec)\n",
            "INFO:tensorflow:global_step/sec: 509.5\n",
            "INFO:tensorflow:loss = 0.72345626, step = 900 (0.199 sec)\n",
            "INFO:tensorflow:global_step/sec: 559.889\n",
            "INFO:tensorflow:loss = 0.7180558, step = 1000 (0.176 sec)\n",
            "INFO:tensorflow:global_step/sec: 533.185\n",
            "INFO:tensorflow:loss = 0.69431245, step = 1100 (0.191 sec)\n",
            "INFO:tensorflow:global_step/sec: 514.317\n",
            "INFO:tensorflow:loss = 0.6824014, step = 1200 (0.197 sec)\n",
            "INFO:tensorflow:global_step/sec: 551.923\n",
            "INFO:tensorflow:loss = 0.66357934, step = 1300 (0.179 sec)\n",
            "INFO:tensorflow:global_step/sec: 528.39\n",
            "INFO:tensorflow:loss = 0.6522002, step = 1400 (0.189 sec)\n",
            "INFO:tensorflow:global_step/sec: 557.683\n",
            "INFO:tensorflow:loss = 0.6503538, step = 1500 (0.176 sec)\n",
            "INFO:tensorflow:global_step/sec: 588.607\n",
            "INFO:tensorflow:loss = 0.6319822, step = 1600 (0.172 sec)\n",
            "INFO:tensorflow:global_step/sec: 537.227\n",
            "INFO:tensorflow:loss = 0.62846845, step = 1700 (0.187 sec)\n",
            "INFO:tensorflow:global_step/sec: 511.002\n",
            "INFO:tensorflow:loss = 0.6152227, step = 1800 (0.192 sec)\n",
            "INFO:tensorflow:global_step/sec: 519.673\n",
            "INFO:tensorflow:loss = 0.60658497, step = 1900 (0.193 sec)\n",
            "INFO:tensorflow:global_step/sec: 550.058\n",
            "INFO:tensorflow:loss = 0.59538823, step = 2000 (0.181 sec)\n",
            "INFO:tensorflow:global_step/sec: 546.202\n",
            "INFO:tensorflow:loss = 0.5906687, step = 2100 (0.187 sec)\n",
            "INFO:tensorflow:global_step/sec: 507.641\n",
            "INFO:tensorflow:loss = 0.59617496, step = 2200 (0.196 sec)\n",
            "INFO:tensorflow:global_step/sec: 547.18\n",
            "INFO:tensorflow:loss = 0.5827752, step = 2300 (0.180 sec)\n",
            "INFO:tensorflow:global_step/sec: 587.881\n",
            "INFO:tensorflow:loss = 0.56962425, step = 2400 (0.173 sec)\n",
            "INFO:tensorflow:global_step/sec: 564.916\n",
            "INFO:tensorflow:loss = 0.5674546, step = 2500 (0.174 sec)\n",
            "INFO:tensorflow:global_step/sec: 588.889\n",
            "INFO:tensorflow:loss = 0.57118124, step = 2600 (0.176 sec)\n",
            "INFO:tensorflow:global_step/sec: 535.019\n",
            "INFO:tensorflow:loss = 0.5601095, step = 2700 (0.186 sec)\n",
            "INFO:tensorflow:global_step/sec: 532.917\n",
            "INFO:tensorflow:loss = 0.5407345, step = 2800 (0.185 sec)\n",
            "INFO:tensorflow:global_step/sec: 540.563\n",
            "INFO:tensorflow:loss = 0.54756004, step = 2900 (0.182 sec)\n",
            "INFO:tensorflow:global_step/sec: 480.068\n",
            "INFO:tensorflow:loss = 0.53587013, step = 3000 (0.211 sec)\n",
            "INFO:tensorflow:global_step/sec: 562.347\n",
            "INFO:tensorflow:loss = 0.5386708, step = 3100 (0.178 sec)\n",
            "INFO:tensorflow:global_step/sec: 503.393\n",
            "INFO:tensorflow:loss = 0.5225389, step = 3200 (0.199 sec)\n",
            "INFO:tensorflow:global_step/sec: 516.938\n",
            "INFO:tensorflow:loss = 0.5246056, step = 3300 (0.193 sec)\n",
            "INFO:tensorflow:global_step/sec: 453.68\n",
            "INFO:tensorflow:loss = 0.5157192, step = 3400 (0.220 sec)\n",
            "INFO:tensorflow:global_step/sec: 457.28\n",
            "INFO:tensorflow:loss = 0.5220138, step = 3500 (0.221 sec)\n",
            "INFO:tensorflow:global_step/sec: 436.184\n",
            "INFO:tensorflow:loss = 0.51576203, step = 3600 (0.228 sec)\n",
            "INFO:tensorflow:global_step/sec: 440.909\n",
            "INFO:tensorflow:loss = 0.48910016, step = 3700 (0.226 sec)\n",
            "INFO:tensorflow:global_step/sec: 473.007\n",
            "INFO:tensorflow:loss = 0.5072795, step = 3800 (0.212 sec)\n",
            "INFO:tensorflow:global_step/sec: 427.611\n",
            "INFO:tensorflow:loss = 0.49522677, step = 3900 (0.231 sec)\n",
            "INFO:tensorflow:global_step/sec: 459.032\n",
            "INFO:tensorflow:loss = 0.50396454, step = 4000 (0.220 sec)\n",
            "INFO:tensorflow:global_step/sec: 451.951\n",
            "INFO:tensorflow:loss = 0.4919351, step = 4100 (0.221 sec)\n",
            "INFO:tensorflow:global_step/sec: 480.018\n",
            "INFO:tensorflow:loss = 0.48058164, step = 4200 (0.206 sec)\n",
            "INFO:tensorflow:global_step/sec: 434.928\n",
            "INFO:tensorflow:loss = 0.48759642, step = 4300 (0.233 sec)\n",
            "INFO:tensorflow:global_step/sec: 419.057\n",
            "INFO:tensorflow:loss = 0.4768147, step = 4400 (0.239 sec)\n",
            "INFO:tensorflow:global_step/sec: 420.973\n",
            "INFO:tensorflow:loss = 0.4786627, step = 4500 (0.234 sec)\n",
            "INFO:tensorflow:global_step/sec: 424.887\n",
            "INFO:tensorflow:loss = 0.4746787, step = 4600 (0.236 sec)\n",
            "INFO:tensorflow:global_step/sec: 444.525\n",
            "INFO:tensorflow:loss = 0.45841116, step = 4700 (0.226 sec)\n",
            "INFO:tensorflow:global_step/sec: 420.81\n",
            "INFO:tensorflow:loss = 0.46776274, step = 4800 (0.239 sec)\n",
            "INFO:tensorflow:global_step/sec: 493.117\n",
            "INFO:tensorflow:loss = 0.46226323, step = 4900 (0.204 sec)\n",
            "INFO:tensorflow:Calling checkpoint listeners before saving checkpoint 5000...\n",
            "INFO:tensorflow:Saving checkpoints for 5000 into /tmp/tmpb7fid6cc/model.ckpt.\n",
            "INFO:tensorflow:Calling checkpoint listeners after saving checkpoint 5000...\n",
            "INFO:tensorflow:Loss for final step: 0.45792204.\n"
          ],
          "name": "stdout"
        },
        {
          "output_type": "execute_result",
          "data": {
            "text/plain": [
              "<tensorflow_estimator.python.estimator.canned.dnn.DNNClassifierV2 at 0x7f2bc4838dd0>"
            ]
          },
          "metadata": {
            "tags": []
          },
          "execution_count": 16
        }
      ]
    },
    {
      "cell_type": "markdown",
      "metadata": {
        "id": "ZjI9-x8Q-Dch"
      },
      "source": [
        "### Evaluate"
      ]
    },
    {
      "cell_type": "code",
      "metadata": {
        "colab": {
          "base_uri": "https://localhost:8080/"
        },
        "id": "8sSQYcBM9Xfb",
        "outputId": "79fa3e7d-e947-47a2-8fd3-f48661ad3d7a"
      },
      "source": [
        "eval_result = classifier.evaluate(\n",
        "    input_fn=lambda: input_fn(test, test_y, training=False ))\n",
        "\n",
        "print('\\nTest set accuracy: {accuracy:0.3f}\\n'.format(**eval_result))"
      ],
      "execution_count": null,
      "outputs": [
        {
          "output_type": "stream",
          "text": [
            "INFO:tensorflow:Calling model_fn.\n",
            "INFO:tensorflow:Done calling model_fn.\n",
            "INFO:tensorflow:Starting evaluation at 2021-06-21T09:50:25\n",
            "INFO:tensorflow:Graph was finalized.\n",
            "INFO:tensorflow:Restoring parameters from /tmp/tmpb7fid6cc/model.ckpt-5000\n",
            "INFO:tensorflow:Running local_init_op.\n",
            "INFO:tensorflow:Done running local_init_op.\n",
            "INFO:tensorflow:Inference Time : 0.29927s\n",
            "INFO:tensorflow:Finished evaluation at 2021-06-21-09:50:25\n",
            "INFO:tensorflow:Saving dict for global step 5000: accuracy = 0.73333335, average_loss = 0.545254, global_step = 5000, loss = 0.545254\n",
            "INFO:tensorflow:Saving 'checkpoint_path' summary for global step 5000: /tmp/tmpb7fid6cc/model.ckpt-5000\n",
            "\n",
            "Test set accuracy: 0.733\n",
            "\n"
          ],
          "name": "stdout"
        }
      ]
    },
    {
      "cell_type": "code",
      "metadata": {
        "colab": {
          "base_uri": "https://localhost:8080/"
        },
        "id": "_XRhXwVq-mps",
        "outputId": "ee4fd88d-de96-4729-8035-c882791ba2a0"
      },
      "source": [
        "def input_fn(features, batch_size=256):\n",
        "  # Convert the inputs to a dataset without labels\n",
        "  return tf.data.Dataset.from_tensor_slices(dict(features)).batch(batch_size)\n",
        "\n",
        "features = ['SepalLength','SepalWidth','PetalLength','PetalWidth']\n",
        "predict = {}\n",
        "\n",
        "print(\"Please type numeric values as prompted\")\n",
        "for feature in features:\n",
        "  valid = True\n",
        "  while valid:\n",
        "    val = input(feature + \": \")\n",
        "    if not val.isdigit(): valid = False\n",
        "  \n",
        "  predict[feature] = [float(val)]\n",
        "\n",
        "predictions = classifier.predict(input_fn=lambda: input_fn(predict))\n",
        "for pred_dict in predictions:\n",
        "  class_id = pred_dict['class_ids'][0]\n",
        "  probability = pred_dict['probabilities'][class_id]\n",
        "\n",
        "  print('Prediction is \"{}\" ({:.1f}%)'.format(\n",
        "      SPECIES[class_id], 100*probability\n",
        "  ))"
      ],
      "execution_count": null,
      "outputs": [
        {
          "output_type": "stream",
          "text": [
            "Please type numeric values as prompted\n",
            "SepalLength: 1.4\n",
            "SepalWidth: 2.3\n",
            "PetalLength: 4.5\n",
            "PetalWidth: 4.7\n",
            "INFO:tensorflow:Calling model_fn.\n",
            "INFO:tensorflow:Done calling model_fn.\n",
            "INFO:tensorflow:Graph was finalized.\n",
            "INFO:tensorflow:Restoring parameters from /tmp/tmpb7fid6cc/model.ckpt-5000\n",
            "INFO:tensorflow:Running local_init_op.\n",
            "INFO:tensorflow:Done running local_init_op.\n",
            "Prediction is \"Versicolor\" (81.5%)\n"
          ],
          "name": "stdout"
        }
      ]
    }
  ]
}