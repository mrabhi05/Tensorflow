{
  "nbformat": 4,
  "nbformat_minor": 0,
  "metadata": {
    "colab": {
      "name": "Tensorflow-Introduction.ipynb",
      "provenance": [],
      "collapsed_sections": [],
      "authorship_tag": "ABX9TyMk03pVzcluSMrnboF1SsFm",
      "include_colab_link": true
    },
    "kernelspec": {
      "name": "python3",
      "display_name": "Python 3"
    },
    "language_info": {
      "name": "python"
    }
  },
  "cells": [
    {
      "cell_type": "markdown",
      "metadata": {
        "id": "view-in-github",
        "colab_type": "text"
      },
      "source": [
        "<a href=\"https://colab.research.google.com/github/mrabhi05/Tensorflow/blob/main/Tensorflow-Introduction.ipynb\" target=\"_parent\"><img src=\"https://colab.research.google.com/assets/colab-badge.svg\" alt=\"Open In Colab\"/></a>"
      ]
    },
    {
      "cell_type": "markdown",
      "metadata": {
        "id": "bznBba9gxvgr"
      },
      "source": [
        "##Tensor\n",
        "A Tensor is a generalization of vectors of vectors and matrices to potentially higher dimensions. Internally, Tensorflow represents tensors as n-dimensional arrays of base datatypes.\n",
        "\n",
        "Tensors are the fundamental aspect of TensorFlow. They are the main objects that are passed around and manipulated through the program. Each tensor represents a partially defined computation that will eventually produce a value."
      ]
    },
    {
      "cell_type": "code",
      "metadata": {
        "colab": {
          "base_uri": "https://localhost:8080/"
        },
        "id": "LM_YSQk_z1Pl",
        "outputId": "b26a43a5-ce5d-4a12-a84b-0cbb2901403d"
      },
      "source": [
        "import tensorflow as tf\n",
        "print(tf.version)"
      ],
      "execution_count": 5,
      "outputs": [
        {
          "output_type": "stream",
          "text": [
            "<module 'tensorflow._api.v2.version' from '/usr/local/lib/python3.7/dist-packages/tensorflow/_api/v2/version/__init__.py'>\n"
          ],
          "name": "stdout"
        }
      ]
    },
    {
      "cell_type": "markdown",
      "metadata": {
        "id": "vcsXlsIxzV4r"
      },
      "source": [
        "###Creating Tensors"
      ]
    },
    {
      "cell_type": "code",
      "metadata": {
        "id": "qMCdNqP3UoQi"
      },
      "source": [
        "string = tf.Variable(\"This is a String\", tf.string)\n",
        "number = tf.Variable(324, tf.int16)\n",
        "floating = tf.Variable(3.567, tf.int64)"
      ],
      "execution_count": 4,
      "outputs": []
    },
    {
      "cell_type": "markdown",
      "metadata": {
        "id": "PdeeXWS80VZW"
      },
      "source": [
        "###Rank/Degree of Tensor\n",
        "\n",
        "Another word for rank is degree, these terms simply mean the number of dimensions involved in the tensor. What we created above is a tensor of rank 0, also known as scalar."
      ]
    },
    {
      "cell_type": "code",
      "metadata": {
        "id": "qAFNYz3EzgQ-"
      },
      "source": [
        "rank1_tensor = tf.Variable([\"Test\",\"OK\"], tf.string)\n",
        "rank2_tensor = tf.Variable([[\"test\",\"OK\"],[\"test\",\"Yes\"]], tf.string)"
      ],
      "execution_count": 8,
      "outputs": []
    },
    {
      "cell_type": "code",
      "metadata": {
        "colab": {
          "base_uri": "https://localhost:8080/"
        },
        "id": "eLXV1vgL1Qbp",
        "outputId": "765f7f92-5748-4ebe-fe8d-528c49b0ae5d"
      },
      "source": [
        "tf.rank(rank1_tensor)\n",
        "tf.rank(rank2_tensor)"
      ],
      "execution_count": 10,
      "outputs": [
        {
          "output_type": "execute_result",
          "data": {
            "text/plain": [
              "<tf.Tensor: shape=(), dtype=int32, numpy=1>"
            ]
          },
          "metadata": {
            "tags": []
          },
          "execution_count": 10
        }
      ]
    },
    {
      "cell_type": "markdown",
      "metadata": {
        "id": "tiUL2pe86aM8"
      },
      "source": [
        "### Shape of Tensors\n",
        "The shape of the tensor is simply the amount of elements that exists in each dimension. "
      ]
    },
    {
      "cell_type": "code",
      "metadata": {
        "colab": {
          "base_uri": "https://localhost:8080/"
        },
        "id": "B4TlASbG6qsB",
        "outputId": "3c23e2be-8a69-4164-cf78-e94ea05be69a"
      },
      "source": [
        "rank2_tensor.shape"
      ],
      "execution_count": 11,
      "outputs": [
        {
          "output_type": "execute_result",
          "data": {
            "text/plain": [
              "TensorShape([2, 2])"
            ]
          },
          "metadata": {
            "tags": []
          },
          "execution_count": 11
        }
      ]
    },
    {
      "cell_type": "markdown",
      "metadata": {
        "id": "v8FpDpr866J1"
      },
      "source": [
        "### Changing the Shape\n",
        "The number of elements of a tensor is the product of the sizes of all its shapes. There are often many shapes that have the same number of elements, making it convient to be able to change the shape of the tensor."
      ]
    },
    {
      "cell_type": "code",
      "metadata": {
        "id": "83c_bs6E6tBQ"
      },
      "source": [
        "tensor1 = tf.ones([1,2,3]) # tf.ones Creates a shape [1,2,3] tensor full of ones\n",
        "tensor2 = tf.reshape(tensor1, [2,3,1]) # Reshape existing data to shape [2,3,1]\n",
        "tensor3 = tf.reshape(tensor2, [3,-1]) # -1 tells the tensor to calculate the size of the dimension in that place"
      ],
      "execution_count": 13,
      "outputs": []
    },
    {
      "cell_type": "markdown",
      "metadata": {
        "id": "nKl9axfZ89xQ"
      },
      "source": [
        "Note: The number of elements in the reshaped tensor MUST match the number in the original "
      ]
    },
    {
      "cell_type": "code",
      "metadata": {
        "colab": {
          "base_uri": "https://localhost:8080/"
        },
        "id": "1Ah48AcX9Lac",
        "outputId": "fc77245e-cda5-4135-f720-6af07cd28203"
      },
      "source": [
        "print(tensor1)\n",
        "print(tensor2)\n",
        "print(tensor3)"
      ],
      "execution_count": 15,
      "outputs": [
        {
          "output_type": "stream",
          "text": [
            "tf.Tensor(\n",
            "[[[1. 1. 1.]\n",
            "  [1. 1. 1.]]], shape=(1, 2, 3), dtype=float32)\n",
            "tf.Tensor(\n",
            "[[[1.]\n",
            "  [1.]\n",
            "  [1.]]\n",
            "\n",
            " [[1.]\n",
            "  [1.]\n",
            "  [1.]]], shape=(2, 3, 1), dtype=float32)\n",
            "tf.Tensor(\n",
            "[[1. 1.]\n",
            " [1. 1.]\n",
            " [1. 1.]], shape=(3, 2), dtype=float32)\n"
          ],
          "name": "stdout"
        }
      ]
    },
    {
      "cell_type": "markdown",
      "metadata": {
        "id": "zlglc0QC-sgk"
      },
      "source": [
        "### Types of Tensors\n",
        "These are commonly used tensors:\n",
        "*   Variable\n",
        "*   Constant\n",
        "*   Placeholder\n",
        "*   SparseTensor\n",
        "\n",
        "\n"
      ]
    },
    {
      "cell_type": "code",
      "metadata": {
        "id": "EQqVI4RO9Nmm"
      },
      "source": [
        ""
      ],
      "execution_count": null,
      "outputs": []
    }
  ]
}