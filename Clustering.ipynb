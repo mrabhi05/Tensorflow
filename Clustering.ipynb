{
  "nbformat": 4,
  "nbformat_minor": 0,
  "metadata": {
    "colab": {
      "name": "Clustering.ipynb",
      "provenance": [],
      "collapsed_sections": [],
      "authorship_tag": "ABX9TyOZeRMcj9V68c6r07lS4qPp",
      "include_colab_link": true
    },
    "kernelspec": {
      "name": "python3",
      "display_name": "Python 3"
    },
    "language_info": {
      "name": "python"
    }
  },
  "cells": [
    {
      "cell_type": "markdown",
      "metadata": {
        "id": "view-in-github",
        "colab_type": "text"
      },
      "source": [
        "<a href=\"https://colab.research.google.com/github/mrabhi05/Tensorflow/blob/main/Clustering.ipynb\" target=\"_parent\"><img src=\"https://colab.research.google.com/assets/colab-badge.svg\" alt=\"Open In Colab\"/></a>"
      ]
    },
    {
      "cell_type": "markdown",
      "metadata": {
        "id": "YVftfJ-CRc-r"
      },
      "source": [
        "## Classification\n",
        "\n",
        "Clustering is a Machine Learning technique that involves the grouping of data points. In theory, data points that are in the same group should have similar properties and/or features, while data points in different groups should have highly dissimilar properties and/or features.\n",
        "\n",
        "### Basic Algorithm for K-Means.\n",
        "\n",
        "\n",
        "\n",
        "*   Step 1: Randomly pick K points to place K centroids \n",
        "*   Step 2: Assign all of the data points to the centroids by distance. The closest centroid to a point is the one it is assigned to.\n",
        "*   Step 3: Average all of the points belonging to each centroid to find the middle of those clusters (center of mass). Place the centroids into that position.\n",
        "*   Step 4: Reassign every point once again to the closest centroid\n",
        "*   Step 5: Repeat Step 3-4 until no point changes which centroid it belongs to.\n",
        "\n"
      ]
    },
    {
      "cell_type": "markdown",
      "metadata": {
        "id": "lbKF0wyDef-A"
      },
      "source": [
        "## Hidden Markov Models \n",
        "\n",
        "\"The Hidden Markov Model is a finite set of states, each of which is associated with a (generally multidimensional) probability distribution. Transitions among the states are governed by a set of probabilities called Transition Probabilities\"\n",
        "\n",
        "A hidden markov model works with probabilities to predict future events or states. \n",
        "\n",
        "Here, we will create a hidden markov model that can predict the weather."
      ]
    },
    {
      "cell_type": "markdown",
      "metadata": {
        "id": "mArj8KeR0AxR"
      },
      "source": [
        "### Data\n"
      ]
    },
    {
      "cell_type": "code",
      "metadata": {
        "id": "c11GMvxKRN_w"
      },
      "source": [
        "  "
      ],
      "execution_count": null,
      "outputs": []
    }
  ]
}