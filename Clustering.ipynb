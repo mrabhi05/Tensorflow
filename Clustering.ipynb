{
  "nbformat": 4,
  "nbformat_minor": 0,
  "metadata": {
    "colab": {
      "name": "Clustering.ipynb",
      "provenance": [],
      "collapsed_sections": [],
      "authorship_tag": "ABX9TyNFMDbWXe0oX6ympbjPPZwY",
      "include_colab_link": true
    },
    "kernelspec": {
      "name": "python3",
      "display_name": "Python 3"
    },
    "language_info": {
      "name": "python"
    }
  },
  "cells": [
    {
      "cell_type": "markdown",
      "metadata": {
        "id": "view-in-github",
        "colab_type": "text"
      },
      "source": [
        "<a href=\"https://colab.research.google.com/github/mrabhi05/Tensorflow/blob/main/Clustering.ipynb\" target=\"_parent\"><img src=\"https://colab.research.google.com/assets/colab-badge.svg\" alt=\"Open In Colab\"/></a>"
      ]
    },
    {
      "cell_type": "markdown",
      "metadata": {
        "id": "YVftfJ-CRc-r"
      },
      "source": [
        "## Classification\n",
        "\n",
        "Clustering is a Machine Learning technique that involves the grouping of data points. In theory, data points that are in the same group should have similar properties and/or features, while data points in different groups should have highly dissimilar properties and/or features.\n",
        "\n",
        "### Basic Algorithm for K-Means.\n",
        "\n",
        "\n",
        "\n",
        "*   Step 1: Randomly pick K points to place K centroids \n",
        "*   Step 2: Assign all of the data points to the centroids by distance. The closest centroid to a point is the one it is assigned to.\n",
        "*   Step 3: Average all of the points belonging to each centroid to find the middle of those clusters (center of mass). Place the centroids into that position.\n",
        "*   Step 4: Reassign every point once again to the closest centroid\n",
        "*   Step 5: Repeat Step 3-4 until no point changes which centroid it belongs to.\n",
        "\n"
      ]
    },
    {
      "cell_type": "markdown",
      "metadata": {
        "id": "lbKF0wyDef-A"
      },
      "source": [
        "## Hidden Markov Models \n",
        "\n",
        "\"The Hidden Markov Model is a finite set of states, each of which is associated with a (generally multidimensional) probability distribution. Transitions among the states are governed by a set of probabilities called Transition Probabilities\"\n",
        "\n",
        "A hidden markov model works with probabilities to predict future events or states. \n",
        "\n",
        "Here, we will create a hidden markov model that can predict the weather."
      ]
    },
    {
      "cell_type": "markdown",
      "metadata": {
        "id": "mArj8KeR0AxR"
      },
      "source": [
        "### Data\n",
        "\n",
        "**States:**In each markov model we have a finite set of states. These states could be something like \"warm\" and \"cold\" or \"high\" and \"low\" or even \"red\", \"green\" and \"blue\". These states are \"hidden\" within the model, which means we do not directly observe them.\n",
        "\n",
        "**Observation:** Each state has a particular outcome or observation associated with it based on a probability distribution. An example of this is the following: On a hot day Time has a 80% chance of being happy and a 20% chance of being sad.\n",
        "\n",
        "**Transition:** Each state will have a probability defining the likelihood of transitioning to a different state. An example is the following: a cold day has a 30% chance of being followed by a hot day and a 70% chance of being followed by another cold day\n",
        "\n",
        "To create a hidden markov model we need:\n",
        "\n",
        "*   States\n",
        "*   Observation Distribution\n",
        "*   Transition Distribution\n",
        "\n",
        "For our purpose we will assume we already have this information as we attempt to predict the weather on a given day.\n",
        "\n",
        "\n"
      ]
    },
    {
      "cell_type": "markdown",
      "metadata": {
        "id": "dl6DnnCd3brq"
      },
      "source": [
        "### Imports and Setup"
      ]
    },
    {
      "cell_type": "code",
      "metadata": {
        "colab": {
          "base_uri": "https://localhost:8080/"
        },
        "id": "c11GMvxKRN_w",
        "outputId": "68870854-c74f-4db3-df25-c52749af823e"
      },
      "source": [
        "  %tensorflow_version 2.x # This line is not required unless you are in a notebook"
      ],
      "execution_count": 1,
      "outputs": [
        {
          "output_type": "stream",
          "text": [
            "`%tensorflow_version` only switches the major version: 1.x or 2.x.\n",
            "You set: `2.x # This line is not required unless you are in a notebook`. This will be interpreted as: `2.x`.\n",
            "\n",
            "\n",
            "TensorFlow 2.x selected.\n"
          ],
          "name": "stdout"
        }
      ]
    },
    {
      "cell_type": "code",
      "metadata": {
        "id": "zFTY8bWT4A1V"
      },
      "source": [
        "import tensorflow_probability as tfp  # We are using a different module from tensorflow this time\n",
        "import tensorflow as tf"
      ],
      "execution_count": 2,
      "outputs": []
    },
    {
      "cell_type": "markdown",
      "metadata": {
        "id": "kiEcHkv15t_V"
      },
      "source": [
        " ### Weather Model\n",
        "\n",
        " We will model a simple weather system and try to predict the temperature on each day given the following information.\n",
        "\n",
        " 1. Cold days are encoded by a 0 and hot days are encoded by a 1.\n",
        " 2. The first day in our sequence has an 80% chance of being cold.\n",
        " 3. A cold day has a 30% chance of being followed by a hot day.\n",
        " 4. A hot day has a 20% chance of being following by a cold day.\n",
        " 5. On each day the temperature is normally distributed with mean and standard deviation 0 and 5 on a cold day and standard deviation 15 and 10 on a hot day"
      ]
    },
    {
      "cell_type": "code",
      "metadata": {
        "id": "eonlWO2yNHzt"
      },
      "source": [
        "tfd = tfp.distributions\n",
        "\n",
        "initial_distribution = tfd.Categorical(probs=[0.8,0.2])  # Refer to Point 2 above\n",
        "transition_distribution = tfd.Categorical(probs=[[0.7,0.3],[0.2,0.8]])  #Refer to Point 3 and 4 above \n",
        "observation_distribution = tfd.Normal(loc=[0.,15.], scale=[5.,10.])  # Refer to Point 5 above\n",
        "\n",
        "# The loc argument represents the mean and scale is the standard deviation\n",
        "\n"
      ],
      "execution_count": 4,
      "outputs": []
    },
    {
      "cell_type": "markdown",
      "metadata": {
        "id": "NJ-fi4pFOi5G"
      },
      "source": [
        "We've  created distribution variables to model our system and it's time to create the hidden markov model."
      ]
    },
    {
      "cell_type": "code",
      "metadata": {
        "id": "Hod9ptIWOafT"
      },
      "source": [
        "model = tfd.HiddenMarkovModel(\n",
        "    initial_distribution=initial_distribution,\n",
        "    transition_distribution=transition_distribution,\n",
        "    observation_distribution=observation_distribution,\n",
        "    num_steps=7  \n",
        ")"
      ],
      "execution_count": 6,
      "outputs": []
    },
    {
      "cell_type": "markdown",
      "metadata": {
        "id": "AWL72acpQl3A"
      },
      "source": [
        "The number of steps represents the number of days that we would like to predict information for. In this case we've chosen 7, an entire week.\n",
        "\n",
        "TO get the expected temperatures on each day we can do the following."
      ]
    },
    {
      "cell_type": "code",
      "metadata": {
        "colab": {
          "base_uri": "https://localhost:8080/"
        },
        "id": "K7W3-DF_QOER",
        "outputId": "0633003b-1799-4545-bf3a-2454191642a2"
      },
      "source": [
        "mean = model.mean()\n",
        "\n",
        "# Due to the way Tensorflow works on a lower level we need to evaluate part of the graph\n",
        "# from within a session to see the value of this tensor\n",
        "\n",
        "# In the new version of tensorflow we need to use tf.compat.v1.Session() rather than just tf.Session()\n",
        "with tf.compat.v1.Session() as sess:\n",
        "  print(mean.numpy())"
      ],
      "execution_count": 7,
      "outputs": [
        {
          "output_type": "stream",
          "text": [
            "[2.9999998 5.9999995 7.4999995 8.25      8.625001  8.812501  8.90625  ]\n"
          ],
          "name": "stdout"
        }
      ]
    }
  ]
}